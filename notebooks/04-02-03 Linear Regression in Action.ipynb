{
 "cells": [
  {
   "cell_type": "markdown",
   "id": "1b99687c-f9a0-447b-9277-4bc2cde1bdf6",
   "metadata": {},
   "source": [
    "## Linear Regression in Action\n",
    "\n",
    "We will implement and assess the performance of linear regression on an advertising dataset using external libraries\n",
    "- The `sklearn` library provides functionalities for model building, training, prediction, and evaluation\n",
    "- The `statsmodels` library is great for statistical summaries\n",
    "\n",
    "Let's import the necessary libraries"
   ]
  },
  {
   "cell_type": "code",
   "execution_count": 1,
   "id": "eb8ff1fb-649c-45a7-9ce5-781e73abe007",
   "metadata": {},
   "outputs": [],
   "source": [
    "import pandas as pd; import numpy as np; import matplotlib.pyplot as plt; import seaborn as sns\n",
    "\n",
    "from sklearn.model_selection import train_test_split  # To split our data into training and testing splits\n",
    "from sklearn.linear_model import LinearRegression  # The primary linear regression model we want to fit\n",
    "from sklearn.metrics import mean_squared_error, r2_score, mean_absolute_percentage_error, mean_absolute_error  # Evaluation metrics\n",
    "\n",
    "import statsmodels.formula.api as sm  # API for statsmodels"
   ]
  },
  {
   "cell_type": "markdown",
   "id": "51e29c34-3e0a-488e-b379-e6820d92a846",
   "metadata": {},
   "source": [
    "We will use an advertising-sales dataset, which contains the amount spent on advertising through 3 channels - TV, Radio, and Newspaper - and the resulting sales. Let's load and explore our dataset."
   ]
  },
  {
   "cell_type": "code",
   "execution_count": 10,
   "id": "dfde4194",
   "metadata": {},
   "outputs": [],
   "source": [
    "data_path = '~/Documents/Masters/AI-Projects/04-ML-Models/linear-regression/data/raw/'"
   ]
  },
  {
   "cell_type": "code",
   "execution_count": 11,
   "id": "012339ef-b20e-461d-96f1-9b9e9ad82475",
   "metadata": {},
   "outputs": [
    {
     "data": {
      "text/html": [
       "<div>\n",
       "<style scoped>\n",
       "    .dataframe tbody tr th:only-of-type {\n",
       "        vertical-align: middle;\n",
       "    }\n",
       "\n",
       "    .dataframe tbody tr th {\n",
       "        vertical-align: top;\n",
       "    }\n",
       "\n",
       "    .dataframe thead th {\n",
       "        text-align: right;\n",
       "    }\n",
       "</style>\n",
       "<table border=\"1\" class=\"dataframe\">\n",
       "  <thead>\n",
       "    <tr style=\"text-align: right;\">\n",
       "      <th></th>\n",
       "      <th>TV</th>\n",
       "      <th>Radio</th>\n",
       "      <th>Newspaper</th>\n",
       "      <th>Sales</th>\n",
       "    </tr>\n",
       "  </thead>\n",
       "  <tbody>\n",
       "    <tr>\n",
       "      <th>0</th>\n",
       "      <td>230.1</td>\n",
       "      <td>37.8</td>\n",
       "      <td>69.2</td>\n",
       "      <td>22.1</td>\n",
       "    </tr>\n",
       "    <tr>\n",
       "      <th>1</th>\n",
       "      <td>44.5</td>\n",
       "      <td>39.3</td>\n",
       "      <td>45.1</td>\n",
       "      <td>10.4</td>\n",
       "    </tr>\n",
       "    <tr>\n",
       "      <th>2</th>\n",
       "      <td>17.2</td>\n",
       "      <td>45.9</td>\n",
       "      <td>69.3</td>\n",
       "      <td>9.3</td>\n",
       "    </tr>\n",
       "    <tr>\n",
       "      <th>3</th>\n",
       "      <td>151.5</td>\n",
       "      <td>41.3</td>\n",
       "      <td>58.5</td>\n",
       "      <td>18.5</td>\n",
       "    </tr>\n",
       "    <tr>\n",
       "      <th>4</th>\n",
       "      <td>180.8</td>\n",
       "      <td>10.8</td>\n",
       "      <td>58.4</td>\n",
       "      <td>12.9</td>\n",
       "    </tr>\n",
       "  </tbody>\n",
       "</table>\n",
       "</div>"
      ],
      "text/plain": [
       "      TV  Radio  Newspaper  Sales\n",
       "0  230.1   37.8       69.2   22.1\n",
       "1   44.5   39.3       45.1   10.4\n",
       "2   17.2   45.9       69.3    9.3\n",
       "3  151.5   41.3       58.5   18.5\n",
       "4  180.8   10.8       58.4   12.9"
      ]
     },
     "execution_count": 11,
     "metadata": {},
     "output_type": "execute_result"
    }
   ],
   "source": [
    "df = pd.read_csv(data_path +'Advertising.csv')\n",
    "df.head()"
   ]
  },
  {
   "cell_type": "code",
   "execution_count": 3,
   "id": "31567cb7-e22a-46d6-89ea-d60ae772d326",
   "metadata": {},
   "outputs": [
    {
     "name": "stdout",
     "output_type": "stream",
     "text": [
      "<class 'pandas.core.frame.DataFrame'>\n",
      "RangeIndex: 200 entries, 0 to 199\n",
      "Data columns (total 4 columns):\n",
      " #   Column     Non-Null Count  Dtype  \n",
      "---  ------     --------------  -----  \n",
      " 0   TV         200 non-null    float64\n",
      " 1   Radio      200 non-null    float64\n",
      " 2   Newspaper  200 non-null    float64\n",
      " 3   Sales      200 non-null    float64\n",
      "dtypes: float64(4)\n",
      "memory usage: 6.4 KB\n"
     ]
    }
   ],
   "source": [
    "df.info()"
   ]
  },
  {
   "cell_type": "markdown",
   "id": "ef4ed24e-ac03-4079-b595-046f783ce623",
   "metadata": {},
   "source": [
    "Before we proceed, let's divide the dataset into the predictors `X` and the target `y`. First, we will perform linear regression using a single predictor, and then expand it to multiple predictor variables."
   ]
  },
  {
   "cell_type": "code",
   "execution_count": 12,
   "id": "14a5ab5e-c9f0-4e03-b640-39eeb5ab3d53",
   "metadata": {},
   "outputs": [],
   "source": [
    "X = df[['TV']]\n",
    "y = df['Sales']"
   ]
  },
  {
   "cell_type": "markdown",
   "id": "254e3da3-00ee-4134-a91f-94f3ec814e06",
   "metadata": {},
   "source": [
    "We will split the data into training and testing sets. The training set is used to fit the linear model, and predictions are then made on both sets to evaluate performance on known versus unseen data.\n",
    "\n",
    "We can use `train_test_split()` from `sklearn.model_selection` to perform these splits"
   ]
  },
  {
   "cell_type": "code",
   "execution_count": 13,
   "id": "c3160375-cad8-48f1-99c2-190725c04796",
   "metadata": {},
   "outputs": [],
   "source": [
    "X_train, X_test, y_train, y_test = train_test_split(X, y, test_size = 0.20)  # Splitting the data into training:testing at 80:20"
   ]
  },
  {
   "cell_type": "code",
   "execution_count": 14,
   "id": "1f1ba111-9db2-4da4-8328-8c9230b115ba",
   "metadata": {},
   "outputs": [
    {
     "data": {
      "text/plain": [
       "(160, 1)"
      ]
     },
     "execution_count": 14,
     "metadata": {},
     "output_type": "execute_result"
    }
   ],
   "source": [
    "X_train.shape"
   ]
  },
  {
   "cell_type": "code",
   "execution_count": 15,
   "id": "608bbf76-d2e0-460c-8a85-54712eaa4419",
   "metadata": {},
   "outputs": [
    {
     "data": {
      "text/plain": [
       "(160,)"
      ]
     },
     "execution_count": 15,
     "metadata": {},
     "output_type": "execute_result"
    }
   ],
   "source": [
    "y_train.shape"
   ]
  },
  {
   "cell_type": "code",
   "execution_count": 16,
   "id": "a9eeba37-fd44-41c8-8996-9f24305b41f7",
   "metadata": {},
   "outputs": [
    {
     "data": {
      "text/plain": [
       "(40, 1)"
      ]
     },
     "execution_count": 16,
     "metadata": {},
     "output_type": "execute_result"
    }
   ],
   "source": [
    "X_test.shape"
   ]
  },
  {
   "cell_type": "code",
   "execution_count": 17,
   "id": "113aa842-408e-40f8-9e30-77e59eead825",
   "metadata": {},
   "outputs": [
    {
     "data": {
      "text/plain": [
       "(40,)"
      ]
     },
     "execution_count": 17,
     "metadata": {},
     "output_type": "execute_result"
    }
   ],
   "source": [
    "y_test.shape"
   ]
  },
  {
   "cell_type": "markdown",
   "id": "94e469ad-18fa-4861-8541-3d8484927bf7",
   "metadata": {},
   "source": [
    "### Linear Regression Using Scikit-Learn\n",
    "Let's apply scikit-learn's `LinearRegression()` to fit a linear model using ordinary least squares (OLS)"
   ]
  },
  {
   "cell_type": "code",
   "execution_count": 18,
   "id": "9ee14111-4831-4632-9f32-384ad0f8c1a3",
   "metadata": {},
   "outputs": [],
   "source": [
    "lr = LinearRegression()  # Initialising the model\n",
    "lr.fit(X_train, y_train);  # Fitting the model to training data"
   ]
  },
  {
   "cell_type": "markdown",
   "id": "bf90bd9a-84f5-4993-84ef-f53ceabb2e88",
   "metadata": {},
   "source": [
    "This gives us the trained model `lr`. Let's now use the trained model to predict on our training data as well as our testing data."
   ]
  },
  {
   "cell_type": "code",
   "execution_count": 19,
   "id": "bc2b8aff-4d35-415e-bcca-6cfdc80ca425",
   "metadata": {},
   "outputs": [],
   "source": [
    "y_train_pred = lr.predict(X_train)  # Predicting values on the training set\n",
    "y_test_pred = lr.predict(X_test)  # Predicting values on the test set"
   ]
  },
  {
   "cell_type": "code",
   "execution_count": 20,
   "id": "10bead4d-347a-4052-a0c9-46bcd5c138d1",
   "metadata": {},
   "outputs": [
    {
     "data": {
      "text/html": [
       "<div>\n",
       "<style scoped>\n",
       "    .dataframe tbody tr th:only-of-type {\n",
       "        vertical-align: middle;\n",
       "    }\n",
       "\n",
       "    .dataframe tbody tr th {\n",
       "        vertical-align: top;\n",
       "    }\n",
       "\n",
       "    .dataframe thead th {\n",
       "        text-align: right;\n",
       "    }\n",
       "</style>\n",
       "<table border=\"1\" class=\"dataframe\">\n",
       "  <thead>\n",
       "    <tr style=\"text-align: right;\">\n",
       "      <th></th>\n",
       "      <th>Actual Train</th>\n",
       "      <th>Predicted Train</th>\n",
       "    </tr>\n",
       "  </thead>\n",
       "  <tbody>\n",
       "    <tr>\n",
       "      <th>155</th>\n",
       "      <td>3.2</td>\n",
       "      <td>7.36</td>\n",
       "    </tr>\n",
       "    <tr>\n",
       "      <th>114</th>\n",
       "      <td>14.6</td>\n",
       "      <td>10.76</td>\n",
       "    </tr>\n",
       "    <tr>\n",
       "      <th>58</th>\n",
       "      <td>23.8</td>\n",
       "      <td>16.84</td>\n",
       "    </tr>\n",
       "    <tr>\n",
       "      <th>175</th>\n",
       "      <td>27.0</td>\n",
       "      <td>19.88</td>\n",
       "    </tr>\n",
       "    <tr>\n",
       "      <th>105</th>\n",
       "      <td>19.2</td>\n",
       "      <td>13.50</td>\n",
       "    </tr>\n",
       "  </tbody>\n",
       "</table>\n",
       "</div>"
      ],
      "text/plain": [
       "     Actual Train  Predicted Train\n",
       "155           3.2             7.36\n",
       "114          14.6            10.76\n",
       "58           23.8            16.84\n",
       "175          27.0            19.88\n",
       "105          19.2            13.50"
      ]
     },
     "execution_count": 20,
     "metadata": {},
     "output_type": "execute_result"
    }
   ],
   "source": [
    "pd.DataFrame({'Actual Train': y_train, 'Predicted Train': np.round(y_train_pred, 2)}).sample(5, random_state = 0)  # Training data"
   ]
  },
  {
   "cell_type": "code",
   "execution_count": 21,
   "id": "04e386a6-30f6-4c32-8c59-14fd18bc7a79",
   "metadata": {},
   "outputs": [
    {
     "data": {
      "text/html": [
       "<div>\n",
       "<style scoped>\n",
       "    .dataframe tbody tr th:only-of-type {\n",
       "        vertical-align: middle;\n",
       "    }\n",
       "\n",
       "    .dataframe tbody tr th {\n",
       "        vertical-align: top;\n",
       "    }\n",
       "\n",
       "    .dataframe thead th {\n",
       "        text-align: right;\n",
       "    }\n",
       "</style>\n",
       "<table border=\"1\" class=\"dataframe\">\n",
       "  <thead>\n",
       "    <tr style=\"text-align: right;\">\n",
       "      <th></th>\n",
       "      <th>Actual Test</th>\n",
       "      <th>Predicted Test</th>\n",
       "    </tr>\n",
       "  </thead>\n",
       "  <tbody>\n",
       "    <tr>\n",
       "      <th>130</th>\n",
       "      <td>1.6</td>\n",
       "      <td>7.20</td>\n",
       "    </tr>\n",
       "    <tr>\n",
       "      <th>147</th>\n",
       "      <td>25.4</td>\n",
       "      <td>18.33</td>\n",
       "    </tr>\n",
       "    <tr>\n",
       "      <th>94</th>\n",
       "      <td>11.5</td>\n",
       "      <td>12.10</td>\n",
       "    </tr>\n",
       "    <tr>\n",
       "      <th>20</th>\n",
       "      <td>18.0</td>\n",
       "      <td>17.19</td>\n",
       "    </tr>\n",
       "    <tr>\n",
       "      <th>59</th>\n",
       "      <td>18.4</td>\n",
       "      <td>16.84</td>\n",
       "    </tr>\n",
       "  </tbody>\n",
       "</table>\n",
       "</div>"
      ],
      "text/plain": [
       "     Actual Test  Predicted Test\n",
       "130          1.6            7.20\n",
       "147         25.4           18.33\n",
       "94          11.5           12.10\n",
       "20          18.0           17.19\n",
       "59          18.4           16.84"
      ]
     },
     "execution_count": 21,
     "metadata": {},
     "output_type": "execute_result"
    }
   ],
   "source": [
    "pd.DataFrame({'Actual Test': y_test, 'Predicted Test': np.round(y_test_pred, 2)}).sample(5, random_state = 0)  # Testing data"
   ]
  },
  {
   "cell_type": "code",
   "execution_count": 22,
   "id": "df1966a9-b249-4221-ae72-32dc0644d980",
   "metadata": {},
   "outputs": [],
   "source": [
    "def visualise_training_vs_testing_fit(X_train, y_train, y_train_pred, X_test, y_test, y_test_pred, predictor):\n",
    "    target_name = y_train.name  # Target feature name\n",
    "    plt.figure(figsize = (12, 3.5))\n",
    "    x_min = min(X_train[predictor].min(), X_test[predictor].min()); x_max = max(X_train[predictor].max(), X_test[predictor].max()); y_min = min(y_train.min(), y_test.min(), y_train_pred.min(), y_test_pred.min()); y_max = max(y_train.max(), y_test.max(), y_train_pred.max(), y_test_pred.max())  # Determine shared axis limits\n",
    "    plt.subplot(1, 2, 1)  # Training subplot\n",
    "    plt.scatter(X_train[predictor], y_train, color = 'blue', alpha = 0.6, s = 5, label = 'Actual'); plt.scatter(X_train[predictor], y_train_pred, color = 'orange', alpha = 0.6, s = 5, label = 'Predicted'); plt.xlabel(predictor); plt.ylabel(target_name); plt.xlim(x_min, x_max); plt.ylim(y_min, y_max); plt.title('Training')\n",
    "    plt.subplot(1, 2, 2)  # Testing subplot\n",
    "    plt.scatter(X_test[predictor], y_test, color = 'blue', alpha = 0.6, s = 5, label = 'Actual'); plt.scatter(X_test[predictor], y_test_pred, color = 'orange', alpha = 0.6, s = 5, label = 'Predicted'); plt.xlabel(predictor); plt.ylabel(''); plt.xlim(x_min, x_max); plt.ylim(y_min, y_max); plt.yticks([]); plt.title('Testing'); plt.legend(bbox_to_anchor = (1.3, 1), loc = 'upper right')\n",
    "    plt.suptitle(f'Actual vs Predicted Charges by {predictor}')\n",
    "    plt.tight_layout();"
   ]
  },
  {
   "cell_type": "code",
   "execution_count": 23,
   "id": "f345c845-8a20-4978-9e0d-4345faa589d5",
   "metadata": {},
   "outputs": [
    {
     "data": {
      "image/png": "[encoded data removed]",
      "text/plain": [
       "<Figure size 1200x350 with 2 Axes>"
      ]
     },
     "metadata": {},
     "output_type": "display_data"
    }
   ],
   "source": [
    "# Visualising actual vs predicted target versus against the 'TV' predictor\n",
    "visualise_training_vs_testing_fit(X_train, y_train, y_train_pred, X_test, y_test, y_test_pred, 'TV')"
   ]
  },
  {
   "cell_type": "markdown",
   "id": "092ed88f-c922-46ad-999a-e8dc580da028",
   "metadata": {},
   "source": [
    "Upon first glance, it feels like the regression line achieved upon training our data has generalised well for the test set. To verify this, we would need to compute some evaluation metrics."
   ]
  },
  {
   "cell_type": "markdown",
   "id": "018e5efe-429f-4bd1-9db3-45728f5e44ea",
   "metadata": {},
   "source": [
    "### Evaluation Metrics\n",
    "Let's evaluate our model by computing and analysing various metrics such as the mean squared error (MSE), the root mean squared error (RMSE), the mean absolute error (MAE), and the $R^2$ score. `sklearn.metrics` provides us with functions to do this."
   ]
  },
  {
   "cell_type": "code",
   "execution_count": 24,
   "id": "0b512eba-92ba-4bc1-ac7c-c05284b80ba0",
   "metadata": {},
   "outputs": [],
   "source": [
    "def regression_metrics(y_train, y_train_pred, y_test, y_test_pred):    \n",
    "    def compute_metrics(y, y_pred):\n",
    "        # Compute evaluation metrics\n",
    "        mse = mean_squared_error(y, y_pred)\n",
    "        rmse = np.sqrt(mse)\n",
    "        mae = mean_absolute_error(y, y_pred)\n",
    "        mape = mean_absolute_percentage_error(y, y_pred) * 100\n",
    "        r2 = r2_score(y, y_pred)\n",
    "\n",
    "        # Compute statistics for comparison\n",
    "        var = y.var()  # Compares to the MSE\n",
    "        std = y.std()  # Compares to the RMSE\n",
    "        mean_val = y.mean()  # Acts as the 'typical value' when comparing to the MAE\n",
    "        \n",
    "        return mse, var, rmse, std, mae, mean_val, mape, r2\n",
    "\n",
    "    metrics_train = compute_metrics(y_train, y_train_pred)\n",
    "    metrics_test = compute_metrics(y_test, y_test_pred)\n",
    "    \n",
    "    return pd.DataFrame({'Dataset': ['Training', 'Testing'], 'MSE': [metrics_train[0], metrics_test[0]], 'Var': [metrics_train[1], metrics_test[1]],\n",
    "                         'RMSE': [metrics_train[2], metrics_test[2]], 'Std Dev': [metrics_train[3], metrics_test[3]],\n",
    "                         'MAE': [metrics_train[4], metrics_test[4]], 'Mean': [metrics_train[5], metrics_test[5]],'MAPE': [metrics_train[6], metrics_test[6]], \n",
    "                         'R²': [metrics_train[7], metrics_test[7]]}).set_index('Dataset')"
   ]
  },
  {
   "cell_type": "code",
   "execution_count": 25,
   "id": "8b22ab0a-0fbe-43ed-bfa0-bd639d8a7785",
   "metadata": {},
   "outputs": [
    {
     "data": {
      "text/html": [
       "<div>\n",
       "<style scoped>\n",
       "    .dataframe tbody tr th:only-of-type {\n",
       "        vertical-align: middle;\n",
       "    }\n",
       "\n",
       "    .dataframe tbody tr th {\n",
       "        vertical-align: top;\n",
       "    }\n",
       "\n",
       "    .dataframe thead th {\n",
       "        text-align: right;\n",
       "    }\n",
       "</style>\n",
       "<table border=\"1\" class=\"dataframe\">\n",
       "  <thead>\n",
       "    <tr style=\"text-align: right;\">\n",
       "      <th></th>\n",
       "      <th>MSE</th>\n",
       "      <th>Var</th>\n",
       "      <th>RMSE</th>\n",
       "      <th>Std Dev</th>\n",
       "      <th>MAE</th>\n",
       "      <th>Mean</th>\n",
       "      <th>MAPE</th>\n",
       "      <th>R²</th>\n",
       "    </tr>\n",
       "    <tr>\n",
       "      <th>Dataset</th>\n",
       "      <th></th>\n",
       "      <th></th>\n",
       "      <th></th>\n",
       "      <th></th>\n",
       "      <th></th>\n",
       "      <th></th>\n",
       "      <th></th>\n",
       "      <th></th>\n",
       "    </tr>\n",
       "  </thead>\n",
       "  <tbody>\n",
       "    <tr>\n",
       "      <th>Training</th>\n",
       "      <td>10.33</td>\n",
       "      <td>26.78</td>\n",
       "      <td>3.21</td>\n",
       "      <td>5.17</td>\n",
       "      <td>2.58</td>\n",
       "      <td>13.87</td>\n",
       "      <td>19.72</td>\n",
       "      <td>0.61</td>\n",
       "    </tr>\n",
       "    <tr>\n",
       "      <th>Testing</th>\n",
       "      <td>11.39</td>\n",
       "      <td>29.26</td>\n",
       "      <td>3.38</td>\n",
       "      <td>5.41</td>\n",
       "      <td>2.50</td>\n",
       "      <td>14.63</td>\n",
       "      <td>24.18</td>\n",
       "      <td>0.60</td>\n",
       "    </tr>\n",
       "  </tbody>\n",
       "</table>\n",
       "</div>"
      ],
      "text/plain": [
       "            MSE    Var  RMSE  Std Dev   MAE   Mean   MAPE    R²\n",
       "Dataset                                                        \n",
       "Training  10.33  26.78  3.21     5.17  2.58  13.87  19.72  0.61\n",
       "Testing   11.39  29.26  3.38     5.41  2.50  14.63  24.18  0.60"
      ]
     },
     "execution_count": 25,
     "metadata": {},
     "output_type": "execute_result"
    }
   ],
   "source": [
    "df_metrics = regression_metrics(y_train, y_train_pred, y_test, y_test_pred).round(2)\n",
    "df_metrics"
   ]
  },
  {
   "cell_type": "markdown",
   "id": "0ae587f6-f629-4ce6-a13f-193968e4a16f",
   "metadata": {},
   "source": [
    "Here are some thumb rules when it comes to evaluating our metrics\n",
    "\n",
    "| Metric | Thumb Rule / Interpretation |\n",
    "|--------|----------------------------|\n",
    "| MSE | MSE lower than variance means model improves over naïve prediction |\n",
    "| RMSE | RMSE lower than standard deviation indicates good fit |\n",
    "| MAE | Compare to typical value (e.g., the mean) of target: roughly tells typical error magnitude; lower is better |\n",
    "| MAPE | Interprets error as % of true value; smaller % is better |\n",
    "| $R^2$ | Proportion of variance explained: closer to 1 is better; 0 means no improvement over mean |\n",
    "\n"
   ]
  },
  {
   "cell_type": "markdown",
   "id": "b20575e8-161a-4498-91c3-e9fa075395a1",
   "metadata": {},
   "source": [
    "We can see that\n",
    "- The MSE is smaller than the variance and the RMSE is smaller than the standard deviation; this shows low prediction error compared to data variability\n",
    "- The MAE is much smaller than the mean, confirming accurate predictions\n",
    "- The MAPE indicates that performance is average\n",
    "- The suboptimal $R^2$ values indicate that only one predictor may not be enough to explain most of the variance\n",
    "\n",
    "Across the board, we can see our error metrics worsening for the testing set; however, the MAE and $R^2$ are slightly better on the testing set than on training, suggesting that, despite higher absolute errors, the model may be capturing the overall trend in the unseen data reasonably well\n",
    "\n",
    "Let's visualise our residuals"
   ]
  },
  {
   "cell_type": "code",
   "execution_count": 26,
   "id": "c12fac64-ff27-4ce5-a63d-20ac9a1ffacd",
   "metadata": {},
   "outputs": [
    {
     "data": {
      "image/png": "[encoded data removed]",
      "text/plain": [
       "<Figure size 1000x350 with 2 Axes>"
      ]
     },
     "metadata": {},
     "output_type": "display_data"
    }
   ],
   "source": [
    "residuals_train = y_train - y_train_pred\n",
    "residuals_test = y_test - y_test_pred\n",
    "fig, axes = plt.subplots(1, 2, figsize = (10, 3.5))\n",
    "# Residuals vs predicted target values \n",
    "sns.scatterplot(x = y_train_pred, y = residuals_train, ax = axes[0], label = 'Train', alpha = 0.6)\n",
    "sns.scatterplot(x = y_test_pred, y = residuals_test, ax = axes[0], label = 'Test', alpha = 0.6)\n",
    "axes[0].axhline(0, color = 'red', linestyle = '--'); axes[0].set_xlabel('Predicted Charges'); axes[0].set_ylabel('Residuals'); axes[0].set_title('Residuals vs Predicted'); axes[0].legend()\n",
    "# Residuals distribution \n",
    "sns.histplot(residuals_train, kde = True, bins = 30, ax = axes[1], color = 'blue', label = 'Train', alpha = 0.5)\n",
    "sns.histplot(residuals_test, kde = True, bins = 30, ax = axes[1], color = 'orange', label = 'Test', alpha = 0.5)\n",
    "axes[1].set_xlabel('Residuals'); axes[1].set_title('Distribution of Residuals'); axes[1].legend(); plt.tight_layout()"
   ]
  },
  {
   "cell_type": "markdown",
   "id": "3e900888-3a3d-489c-98a6-8a8ee181bb30",
   "metadata": {},
   "source": [
    "The residuals show a slight funnel pattern, suggesting heteroscedasticity, indicating that the linear model may not be fully capturing relationships in the data. The residual distribution is somewhat normally distributed."
   ]
  },
  {
   "cell_type": "markdown",
   "id": "917a822f",
   "metadata": {},
   "source": [
    "### Linear Regression using Multiple Predictors\n",
    "\n",
    "Let us now extend our model to multiple linear regression and see if it can capture the realtionships better"
   ]
  },
  {
   "cell_type": "code",
   "execution_count": 27,
   "id": "e326f11e",
   "metadata": {},
   "outputs": [
    {
     "data": {
      "text/html": [
       "<div>\n",
       "<style scoped>\n",
       "    .dataframe tbody tr th:only-of-type {\n",
       "        vertical-align: middle;\n",
       "    }\n",
       "\n",
       "    .dataframe tbody tr th {\n",
       "        vertical-align: top;\n",
       "    }\n",
       "\n",
       "    .dataframe thead th {\n",
       "        text-align: right;\n",
       "    }\n",
       "</style>\n",
       "<table border=\"1\" class=\"dataframe\">\n",
       "  <thead>\n",
       "    <tr style=\"text-align: right;\">\n",
       "      <th></th>\n",
       "      <th>TV</th>\n",
       "      <th>Radio</th>\n",
       "      <th>Newspaper</th>\n",
       "    </tr>\n",
       "  </thead>\n",
       "  <tbody>\n",
       "    <tr>\n",
       "      <th>3</th>\n",
       "      <td>151.5</td>\n",
       "      <td>41.3</td>\n",
       "      <td>58.5</td>\n",
       "    </tr>\n",
       "    <tr>\n",
       "      <th>127</th>\n",
       "      <td>80.2</td>\n",
       "      <td>0.0</td>\n",
       "      <td>9.2</td>\n",
       "    </tr>\n",
       "    <tr>\n",
       "      <th>38</th>\n",
       "      <td>43.1</td>\n",
       "      <td>26.7</td>\n",
       "      <td>35.1</td>\n",
       "    </tr>\n",
       "    <tr>\n",
       "      <th>101</th>\n",
       "      <td>296.4</td>\n",
       "      <td>36.3</td>\n",
       "      <td>100.9</td>\n",
       "    </tr>\n",
       "    <tr>\n",
       "      <th>160</th>\n",
       "      <td>172.5</td>\n",
       "      <td>18.1</td>\n",
       "      <td>30.7</td>\n",
       "    </tr>\n",
       "  </tbody>\n",
       "</table>\n",
       "</div>"
      ],
      "text/plain": [
       "        TV  Radio  Newspaper\n",
       "3    151.5   41.3       58.5\n",
       "127   80.2    0.0        9.2\n",
       "38    43.1   26.7       35.1\n",
       "101  296.4   36.3      100.9\n",
       "160  172.5   18.1       30.7"
      ]
     },
     "execution_count": 27,
     "metadata": {},
     "output_type": "execute_result"
    }
   ],
   "source": [
    "X_mlr = df[['TV', 'Radio', 'Newspaper']]\n",
    "y = df['Sales']\n",
    "\n",
    "X_mlr_train, X_mlr_test, y_train, y_test = train_test_split(X_mlr, y, test_size = 0.20)\n",
    "X_mlr_train.head()"
   ]
  },
  {
   "cell_type": "code",
   "execution_count": 28,
   "id": "ad488ad2",
   "metadata": {},
   "outputs": [],
   "source": [
    "mlr = LinearRegression()  # Initialising the model\n",
    "mlr.fit(X_mlr_train, y_train);  # Fitting the model to training data\n",
    "\n",
    "y_train_pred_mlr = mlr.predict(X_mlr_train)  # Predicting values on the training set\n",
    "y_test_pred_mlr = mlr.predict(X_mlr_test)  # Predicting values on the test set"
   ]
  },
  {
   "cell_type": "code",
   "execution_count": 29,
   "id": "f381214c-a4ee-4c49-9e14-cbecab9fca1a",
   "metadata": {},
   "outputs": [
    {
     "data": {
      "text/html": [
       "<div>\n",
       "<style scoped>\n",
       "    .dataframe tbody tr th:only-of-type {\n",
       "        vertical-align: middle;\n",
       "    }\n",
       "\n",
       "    .dataframe tbody tr th {\n",
       "        vertical-align: top;\n",
       "    }\n",
       "\n",
       "    .dataframe thead th {\n",
       "        text-align: right;\n",
       "    }\n",
       "</style>\n",
       "<table border=\"1\" class=\"dataframe\">\n",
       "  <thead>\n",
       "    <tr style=\"text-align: right;\">\n",
       "      <th></th>\n",
       "      <th>Actual Train</th>\n",
       "      <th>Predicted Train</th>\n",
       "    </tr>\n",
       "  </thead>\n",
       "  <tbody>\n",
       "    <tr>\n",
       "      <th>34</th>\n",
       "      <td>9.5</td>\n",
       "      <td>7.60</td>\n",
       "    </tr>\n",
       "    <tr>\n",
       "      <th>54</th>\n",
       "      <td>20.2</td>\n",
       "      <td>20.35</td>\n",
       "    </tr>\n",
       "    <tr>\n",
       "      <th>103</th>\n",
       "      <td>14.7</td>\n",
       "      <td>14.75</td>\n",
       "    </tr>\n",
       "    <tr>\n",
       "      <th>194</th>\n",
       "      <td>17.3</td>\n",
       "      <td>16.74</td>\n",
       "    </tr>\n",
       "    <tr>\n",
       "      <th>116</th>\n",
       "      <td>12.2</td>\n",
       "      <td>11.99</td>\n",
       "    </tr>\n",
       "  </tbody>\n",
       "</table>\n",
       "</div>"
      ],
      "text/plain": [
       "     Actual Train  Predicted Train\n",
       "34            9.5             7.60\n",
       "54           20.2            20.35\n",
       "103          14.7            14.75\n",
       "194          17.3            16.74\n",
       "116          12.2            11.99"
      ]
     },
     "execution_count": 29,
     "metadata": {},
     "output_type": "execute_result"
    }
   ],
   "source": [
    "pd.DataFrame({'Actual Train': y_train, 'Predicted Train': np.round(y_train_pred_mlr, 2)}).sample(5, random_state = 0)  # Training data"
   ]
  },
  {
   "cell_type": "code",
   "execution_count": 30,
   "id": "725b0f6a-773d-4a6b-8c83-069595ebf0be",
   "metadata": {},
   "outputs": [
    {
     "data": {
      "text/html": [
       "<div>\n",
       "<style scoped>\n",
       "    .dataframe tbody tr th:only-of-type {\n",
       "        vertical-align: middle;\n",
       "    }\n",
       "\n",
       "    .dataframe tbody tr th {\n",
       "        vertical-align: top;\n",
       "    }\n",
       "\n",
       "    .dataframe thead th {\n",
       "        text-align: right;\n",
       "    }\n",
       "</style>\n",
       "<table border=\"1\" class=\"dataframe\">\n",
       "  <thead>\n",
       "    <tr style=\"text-align: right;\">\n",
       "      <th></th>\n",
       "      <th>Actual Test</th>\n",
       "      <th>Predicted Test</th>\n",
       "    </tr>\n",
       "  </thead>\n",
       "  <tbody>\n",
       "    <tr>\n",
       "      <th>138</th>\n",
       "      <td>9.6</td>\n",
       "      <td>10.04</td>\n",
       "    </tr>\n",
       "    <tr>\n",
       "      <th>135</th>\n",
       "      <td>11.6</td>\n",
       "      <td>14.49</td>\n",
       "    </tr>\n",
       "    <tr>\n",
       "      <th>45</th>\n",
       "      <td>14.9</td>\n",
       "      <td>15.16</td>\n",
       "    </tr>\n",
       "    <tr>\n",
       "      <th>130</th>\n",
       "      <td>1.6</td>\n",
       "      <td>10.93</td>\n",
       "    </tr>\n",
       "    <tr>\n",
       "      <th>97</th>\n",
       "      <td>15.5</td>\n",
       "      <td>15.34</td>\n",
       "    </tr>\n",
       "  </tbody>\n",
       "</table>\n",
       "</div>"
      ],
      "text/plain": [
       "     Actual Test  Predicted Test\n",
       "138          9.6           10.04\n",
       "135         11.6           14.49\n",
       "45          14.9           15.16\n",
       "130          1.6           10.93\n",
       "97          15.5           15.34"
      ]
     },
     "execution_count": 30,
     "metadata": {},
     "output_type": "execute_result"
    }
   ],
   "source": [
    "pd.DataFrame({'Actual Test': y_test, 'Predicted Test': np.round(y_test_pred_mlr, 2)}).sample(5, random_state = 0)  # Testing data"
   ]
  },
  {
   "cell_type": "markdown",
   "id": "02e46e4b-811d-46b5-9f71-05afb55e0b13",
   "metadata": {},
   "source": [
    "Let's visualise our data; as we now have multiple dimensions, let's just view `'Sales'` against `'TV'`"
   ]
  },
  {
   "cell_type": "code",
   "execution_count": 31,
   "id": "0a751a30-7be4-47e8-b1eb-0099f62b15a2",
   "metadata": {},
   "outputs": [
    {
     "data": {
      "image/png": "[encoded data removed]",
      "text/plain": [
       "<Figure size 1200x350 with 2 Axes>"
      ]
     },
     "metadata": {},
     "output_type": "display_data"
    }
   ],
   "source": [
    "# Visualising actual vs predicted target versus against the 'TV' predictor\n",
    "visualise_training_vs_testing_fit(X_mlr_train, y_train, y_train_pred_mlr, X_mlr_test, y_test, y_test_pred_mlr, 'TV')"
   ]
  },
  {
   "cell_type": "markdown",
   "id": "a23ef590-bc08-45ee-8115-582089fe8661",
   "metadata": {},
   "source": [
    "We can see that the predictions seem a lot closer to the actual values in this case. The predictions don't follow a straight line here as our dataset is in 4D: we are fitting a hyperplane whose projections are what you see in the 2D case."
   ]
  },
  {
   "cell_type": "markdown",
   "id": "f2e6abe4",
   "metadata": {},
   "source": [
    "Let's calculate the evaluation metrics next"
   ]
  },
  {
   "cell_type": "code",
   "execution_count": 32,
   "id": "811f0393",
   "metadata": {},
   "outputs": [
    {
     "data": {
      "text/html": [
       "<div>\n",
       "<style scoped>\n",
       "    .dataframe tbody tr th:only-of-type {\n",
       "        vertical-align: middle;\n",
       "    }\n",
       "\n",
       "    .dataframe tbody tr th {\n",
       "        vertical-align: top;\n",
       "    }\n",
       "\n",
       "    .dataframe thead th {\n",
       "        text-align: right;\n",
       "    }\n",
       "</style>\n",
       "<table border=\"1\" class=\"dataframe\">\n",
       "  <thead>\n",
       "    <tr style=\"text-align: right;\">\n",
       "      <th></th>\n",
       "      <th>MSE</th>\n",
       "      <th>Var</th>\n",
       "      <th>RMSE</th>\n",
       "      <th>Std Dev</th>\n",
       "      <th>MAE</th>\n",
       "      <th>Mean</th>\n",
       "      <th>MAPE</th>\n",
       "      <th>R²</th>\n",
       "    </tr>\n",
       "    <tr>\n",
       "      <th>Dataset</th>\n",
       "      <th></th>\n",
       "      <th></th>\n",
       "      <th></th>\n",
       "      <th></th>\n",
       "      <th></th>\n",
       "      <th></th>\n",
       "      <th></th>\n",
       "      <th></th>\n",
       "    </tr>\n",
       "  </thead>\n",
       "  <tbody>\n",
       "    <tr>\n",
       "      <th>Training</th>\n",
       "      <td>2.37</td>\n",
       "      <td>26.66</td>\n",
       "      <td>1.54</td>\n",
       "      <td>5.16</td>\n",
       "      <td>1.17</td>\n",
       "      <td>13.95</td>\n",
       "      <td>11.26</td>\n",
       "      <td>0.91</td>\n",
       "    </tr>\n",
       "    <tr>\n",
       "      <th>Testing</th>\n",
       "      <td>4.63</td>\n",
       "      <td>30.10</td>\n",
       "      <td>2.15</td>\n",
       "      <td>5.49</td>\n",
       "      <td>1.48</td>\n",
       "      <td>14.29</td>\n",
       "      <td>25.21</td>\n",
       "      <td>0.84</td>\n",
       "    </tr>\n",
       "  </tbody>\n",
       "</table>\n",
       "</div>"
      ],
      "text/plain": [
       "           MSE    Var  RMSE  Std Dev   MAE   Mean   MAPE    R²\n",
       "Dataset                                                       \n",
       "Training  2.37  26.66  1.54     5.16  1.17  13.95  11.26  0.91\n",
       "Testing   4.63  30.10  2.15     5.49  1.48  14.29  25.21  0.84"
      ]
     },
     "execution_count": 32,
     "metadata": {},
     "output_type": "execute_result"
    }
   ],
   "source": [
    "df_metrics = regression_metrics(y_train, y_train_pred_mlr, y_test, y_test_pred_mlr).round(2)\n",
    "df_metrics"
   ]
  },
  {
   "cell_type": "markdown",
   "id": "aff902cc",
   "metadata": {},
   "source": [
    "Going by the $R^2$ score, we can see that the performance of our model has improved significantly after adding the additional predictors. The model seems to be performing consistently across the training and testing sets."
   ]
  },
  {
   "cell_type": "code",
   "execution_count": 33,
   "id": "0e305b85",
   "metadata": {},
   "outputs": [
    {
     "data": {
      "image/png": "[encoded data removed]",
      "text/plain": [
       "<Figure size 1000x350 with 2 Axes>"
      ]
     },
     "metadata": {},
     "output_type": "display_data"
    }
   ],
   "source": [
    "residuals_train_mlr = y_train - y_train_pred_mlr\n",
    "residuals_test_mlr = y_test - y_test_pred_mlr\n",
    "fig, axes = plt.subplots(1, 2, figsize = (10, 3.5))\n",
    "# Residuals vs predicted target values \n",
    "sns.scatterplot(x = y_train_pred_mlr, y = residuals_train_mlr, ax = axes[0], label = 'Train', alpha = 0.6)\n",
    "sns.scatterplot(x = y_test_pred_mlr, y = residuals_test_mlr, ax = axes[0], label = 'Test', alpha = 0.6)\n",
    "axes[0].axhline(0, color = 'red', linestyle = '--'); axes[0].set_xlabel('Predicted Charges'); axes[0].set_ylabel('Residuals'); axes[0].set_title('Residuals vs Predicted'); axes[0].legend()\n",
    "# Residuals distribution \n",
    "sns.histplot(residuals_train_mlr, kde = True, bins = 30, ax = axes[1], color = 'blue', label = 'Train', alpha = 0.5)\n",
    "sns.histplot(residuals_test_mlr, kde = True, bins = 30, ax = axes[1], color = 'orange', label = 'Test', alpha = 0.5)\n",
    "axes[1].set_xlabel('Residuals'); axes[1].set_title('Distribution of Residuals'); axes[1].legend(); plt.tight_layout()"
   ]
  },
  {
   "cell_type": "markdown",
   "id": "abfcac05",
   "metadata": {},
   "source": [
    "The residuals still show some non-random patterns, and the residual distribution is not normally distributed. To deal with these kinds of issues, we need to tackle challenges that come about when the assumptions of linear regression are violated."
   ]
  },
  {
   "cell_type": "markdown",
   "id": "d21ed760-aa1a-44cd-8637-400b634ea531",
   "metadata": {},
   "source": [
    "### Linear Regression Using Statsmodels\n",
    "\n",
    "The `statsmodels` library offers a detailed statistical summary, making it ideal for inferential analysis like hypothesis testing and evaluating predictor significance"
   ]
  },
  {
   "cell_type": "code",
   "execution_count": 34,
   "id": "7879356a",
   "metadata": {},
   "outputs": [
    {
     "name": "stdout",
     "output_type": "stream",
     "text": [
      "                            OLS Regression Results                            \n",
      "==============================================================================\n",
      "Dep. Variable:                  Sales   R-squared:                       0.896\n",
      "Model:                            OLS   Adj. R-squared:                  0.894\n",
      "Method:                 Least Squares   F-statistic:                     446.6\n",
      "Date:                Wed, 17 Sep 2025   Prob (F-statistic):           2.53e-76\n",
      "Time:                        22:15:05   Log-Likelihood:                -306.64\n",
      "No. Observations:                 160   AIC:                             621.3\n",
      "Df Residuals:                     156   BIC:                             633.6\n",
      "Df Model:                           3                                         \n",
      "Covariance Type:            nonrobust                                         \n",
      "==============================================================================\n",
      "                 coef    std err          t      P>|t|      [0.025      0.975]\n",
      "------------------------------------------------------------------------------\n",
      "Intercept      2.9791      0.354      8.427      0.000       2.281       3.677\n",
      "TV             0.0447      0.002     28.544      0.000       0.042       0.048\n",
      "Radio          0.1892      0.010     19.518      0.000       0.170       0.208\n",
      "Newspaper      0.0028      0.007      0.392      0.696      -0.011       0.017\n",
      "==============================================================================\n",
      "Omnibus:                       67.697   Durbin-Watson:                   2.161\n",
      "Prob(Omnibus):                  0.000   Jarque-Bera (JB):              240.326\n",
      "Skew:                          -1.627   Prob(JB):                     6.52e-53\n",
      "Kurtosis:                       8.046   Cond. No.                         471.\n",
      "==============================================================================\n",
      "\n",
      "Notes:\n",
      "[1] Standard Errors assume that the covariance matrix of the errors is correctly specified.\n"
     ]
    }
   ],
   "source": [
    "train, test = train_test_split(df, test_size = 0.2, random_state = 42)\n",
    "\n",
    "sm_model = sm.ols('Sales ~ TV + Radio + Newspaper', data = train).fit()\n",
    "print(sm_model.summary())"
   ]
  },
  {
   "cell_type": "markdown",
   "id": "c38032e4",
   "metadata": {},
   "source": [
    "Unlike `sklearn`, here we get a detailed statistical insights, such as p-values and the degrees of freedom, in one place, making it more suited for inference\n",
    "\n",
    "For example, all the p-values (`P>|t|`) being $<0.05$ indicate statistical significance, meaning we can be at least $95\\%$ confident that our variables are important predictors of the target\n",
    "\n",
    "Let's compare the predictions for `sklearn` and `statsmodels`"
   ]
  },
  {
   "cell_type": "code",
   "execution_count": 35,
   "id": "83314bde",
   "metadata": {},
   "outputs": [],
   "source": [
    "y_train = train['Sales']\n",
    "X_train = train[['TV', 'Radio', 'Newspaper']]\n",
    "\n",
    "y_test = test['Sales']\n",
    "X_test = test[['TV', 'Radio', 'Newspaper']]\n",
    "\n",
    "y_pred_sm_train = sm_model.predict(train)\n",
    "y_train_pred_mlr = mlr.predict(X_train)\n",
    "\n",
    "y_pred_sm_test = sm_model.predict(test)\n",
    "y_test_pred_mlr = mlr.predict(X_test)"
   ]
  },
  {
   "cell_type": "code",
   "execution_count": 36,
   "id": "d5213c01-119c-4f1f-9c14-56d57f997a3f",
   "metadata": {},
   "outputs": [
    {
     "data": {
      "text/html": [
       "<div>\n",
       "<style scoped>\n",
       "    .dataframe tbody tr th:only-of-type {\n",
       "        vertical-align: middle;\n",
       "    }\n",
       "\n",
       "    .dataframe tbody tr th {\n",
       "        vertical-align: top;\n",
       "    }\n",
       "\n",
       "    .dataframe thead th {\n",
       "        text-align: right;\n",
       "    }\n",
       "</style>\n",
       "<table border=\"1\" class=\"dataframe\">\n",
       "  <thead>\n",
       "    <tr style=\"text-align: right;\">\n",
       "      <th></th>\n",
       "      <th>Actual Train</th>\n",
       "      <th>Predicted Train (sklearn)</th>\n",
       "      <th>Predicted Train (statsmodels)</th>\n",
       "    </tr>\n",
       "  </thead>\n",
       "  <tbody>\n",
       "    <tr>\n",
       "      <th>34</th>\n",
       "      <td>9.5</td>\n",
       "      <td>7.60</td>\n",
       "      <td>7.54</td>\n",
       "    </tr>\n",
       "    <tr>\n",
       "      <th>91</th>\n",
       "      <td>7.3</td>\n",
       "      <td>4.54</td>\n",
       "      <td>4.63</td>\n",
       "    </tr>\n",
       "    <tr>\n",
       "      <th>52</th>\n",
       "      <td>22.6</td>\n",
       "      <td>20.74</td>\n",
       "      <td>20.66</td>\n",
       "    </tr>\n",
       "    <tr>\n",
       "      <th>194</th>\n",
       "      <td>17.3</td>\n",
       "      <td>16.74</td>\n",
       "      <td>16.43</td>\n",
       "    </tr>\n",
       "    <tr>\n",
       "      <th>43</th>\n",
       "      <td>12.9</td>\n",
       "      <td>13.81</td>\n",
       "      <td>13.90</td>\n",
       "    </tr>\n",
       "  </tbody>\n",
       "</table>\n",
       "</div>"
      ],
      "text/plain": [
       "     Actual Train  Predicted Train (sklearn)  Predicted Train (statsmodels)\n",
       "34            9.5                       7.60                           7.54\n",
       "91            7.3                       4.54                           4.63\n",
       "52           22.6                      20.74                          20.66\n",
       "194          17.3                      16.74                          16.43\n",
       "43           12.9                      13.81                          13.90"
      ]
     },
     "execution_count": 36,
     "metadata": {},
     "output_type": "execute_result"
    }
   ],
   "source": [
    "pd.DataFrame({'Actual Train': y_train, 'Predicted Train (sklearn)': np.round(y_train_pred_mlr, 2), 'Predicted Train (statsmodels)': np.round(y_pred_sm_train, 2)}).sample(5, random_state = 42)  # Training data"
   ]
  },
  {
   "cell_type": "code",
   "execution_count": 37,
   "id": "ec79f32e-fd69-4720-817e-70fcf22f1f68",
   "metadata": {},
   "outputs": [
    {
     "data": {
      "text/html": [
       "<div>\n",
       "<style scoped>\n",
       "    .dataframe tbody tr th:only-of-type {\n",
       "        vertical-align: middle;\n",
       "    }\n",
       "\n",
       "    .dataframe tbody tr th {\n",
       "        vertical-align: top;\n",
       "    }\n",
       "\n",
       "    .dataframe thead th {\n",
       "        text-align: right;\n",
       "    }\n",
       "</style>\n",
       "<table border=\"1\" class=\"dataframe\">\n",
       "  <thead>\n",
       "    <tr style=\"text-align: right;\">\n",
       "      <th></th>\n",
       "      <th>Actual Test</th>\n",
       "      <th>Predicted Test (sklearn)</th>\n",
       "      <th>Predicted Test (statsmodels)</th>\n",
       "    </tr>\n",
       "  </thead>\n",
       "  <tbody>\n",
       "    <tr>\n",
       "      <th>68</th>\n",
       "      <td>18.9</td>\n",
       "      <td>19.00</td>\n",
       "      <td>18.83</td>\n",
       "    </tr>\n",
       "    <tr>\n",
       "      <th>56</th>\n",
       "      <td>5.5</td>\n",
       "      <td>8.80</td>\n",
       "      <td>8.74</td>\n",
       "    </tr>\n",
       "    <tr>\n",
       "      <th>177</th>\n",
       "      <td>11.7</td>\n",
       "      <td>12.03</td>\n",
       "      <td>12.16</td>\n",
       "    </tr>\n",
       "    <tr>\n",
       "      <th>84</th>\n",
       "      <td>21.7</td>\n",
       "      <td>20.89</td>\n",
       "      <td>20.76</td>\n",
       "    </tr>\n",
       "    <tr>\n",
       "      <th>128</th>\n",
       "      <td>24.7</td>\n",
       "      <td>22.52</td>\n",
       "      <td>22.11</td>\n",
       "    </tr>\n",
       "  </tbody>\n",
       "</table>\n",
       "</div>"
      ],
      "text/plain": [
       "     Actual Test  Predicted Test (sklearn)  Predicted Test (statsmodels)\n",
       "68          18.9                     19.00                         18.83\n",
       "56           5.5                      8.80                          8.74\n",
       "177         11.7                     12.03                         12.16\n",
       "84          21.7                     20.89                         20.76\n",
       "128         24.7                     22.52                         22.11"
      ]
     },
     "execution_count": 37,
     "metadata": {},
     "output_type": "execute_result"
    }
   ],
   "source": [
    "pd.DataFrame({'Actual Test': y_test, 'Predicted Test (sklearn)': np.round(y_test_pred_mlr, 2), 'Predicted Test (statsmodels)': np.round(y_pred_sm_test, 2)}).sample(5, random_state = 42)  # Testing data"
   ]
  },
  {
   "cell_type": "markdown",
   "id": "474f3813-d45c-47cc-b6c3-2a368b40dbf1",
   "metadata": {},
   "source": [
    "As the ordinary least squares (OLS) method is used by both libraries, and this method is deterministic, we can expect the predictions to be similar"
   ]
  },
  {
   "cell_type": "code",
   "execution_count": null,
   "id": "d3212aca-4123-4fea-92d5-4776bf9a5526",
   "metadata": {},
   "outputs": [],
   "source": []
  },
  {
   "cell_type": "code",
   "execution_count": null,
   "id": "46f09690",
   "metadata": {},
   "outputs": [],
   "source": []
  },
  {
   "cell_type": "code",
   "execution_count": null,
   "id": "7d08f80a",
   "metadata": {},
   "outputs": [],
   "source": []
  }
 ],
 "metadata": {
  "kernelspec": {
   "display_name": "ai-lab",
   "language": "python",
   "name": "python3"
  },
  "language_info": {
   "codemirror_mode": {
    "name": "ipython",
    "version": 3
   },
   "file_extension": ".py",
   "mimetype": "text/x-python",
   "name": "python",
   "nbconvert_exporter": "python",
   "pygments_lexer": "ipython3",
   "version": "3.13.5"
  }
 },
 "nbformat": 4,
 "nbformat_minor": 5
}
