{
 "cells": [
  {
   "cell_type": "markdown",
   "id": "bb15be5f-0ce5-49c2-818d-bed8697248b2",
   "metadata": {},
   "source": [
    "## Regularisation for Linear Regression\n",
    "\n",
    "We will demonstrate how **regularisation** helps improve linear regression by preventing overfitting and stabilising coefficient estimates\n",
    "\n",
    "Specifically, we will compare **Lasso (L1)** and **Ridge (L2)** regularisation, and see how they affect the model's coefficients and performance"
   ]
  },
  {
   "cell_type": "markdown",
   "id": "4d04ff36-e964-472e-ac20-5666b96b1304",
   "metadata": {},
   "source": [
    "Let's start by importing the necessary libraries"
   ]
  },
  {
   "cell_type": "code",
   "execution_count": 1,
   "id": "b80a9380-d84f-4750-a1ae-c769ce846406",
   "metadata": {},
   "outputs": [],
   "source": [
    "from sklearn.linear_model import LinearRegression, Lasso, Ridge  # Linear regression model + lasso and ridge regularisation models\n",
    "from sklearn.preprocessing import MinMaxScaler  # Scaling\n",
    "from sklearn.model_selection import train_test_split, GridSearchCV  # Train-test split and grid search for hyperparameter tuning\n",
    "from sklearn.metrics import r2_score, mean_squared_error  # To assess regression performance\n",
    "import numpy as np; import pandas as pd; import matplotlib.pyplot as plt; import seaborn as sns  # Data processing and visualisation\n",
    "import warnings; warnings.filterwarnings('ignore')"
   ]
  },
  {
   "cell_type": "markdown",
   "id": "93550f44",
   "metadata": {},
   "source": [
    "Let's first take a look at the data and understand the data description"
   ]
  },
  {
   "cell_type": "code",
   "execution_count": 4,
   "id": "d3cce43f-d9b5-44e1-bcb3-d830c1d8bb30",
   "metadata": {},
   "outputs": [
    {
     "data": {
      "text/html": [
       "<div>\n",
       "<style scoped>\n",
       "    .dataframe tbody tr th:only-of-type {\n",
       "        vertical-align: middle;\n",
       "    }\n",
       "\n",
       "    .dataframe tbody tr th {\n",
       "        vertical-align: top;\n",
       "    }\n",
       "\n",
       "    .dataframe thead th {\n",
       "        text-align: right;\n",
       "    }\n",
       "</style>\n",
       "<table border=\"1\" class=\"dataframe\">\n",
       "  <thead>\n",
       "    <tr style=\"text-align: right;\">\n",
       "      <th></th>\n",
       "      <th>symboling</th>\n",
       "      <th>carname</th>\n",
       "      <th>doornumber</th>\n",
       "      <th>carbody</th>\n",
       "      <th>enginelocation</th>\n",
       "      <th>wheelbase</th>\n",
       "      <th>carlength</th>\n",
       "      <th>carwidth</th>\n",
       "      <th>carheight</th>\n",
       "      <th>curbweight</th>\n",
       "      <th>cylindernumber</th>\n",
       "      <th>enginesize</th>\n",
       "      <th>boreratio</th>\n",
       "      <th>stroke</th>\n",
       "      <th>compressionratio</th>\n",
       "      <th>horsepower</th>\n",
       "      <th>peakrpm</th>\n",
       "      <th>citympg</th>\n",
       "      <th>highwaympg</th>\n",
       "      <th>price</th>\n",
       "    </tr>\n",
       "    <tr>\n",
       "      <th>car_ID</th>\n",
       "      <th></th>\n",
       "      <th></th>\n",
       "      <th></th>\n",
       "      <th></th>\n",
       "      <th></th>\n",
       "      <th></th>\n",
       "      <th></th>\n",
       "      <th></th>\n",
       "      <th></th>\n",
       "      <th></th>\n",
       "      <th></th>\n",
       "      <th></th>\n",
       "      <th></th>\n",
       "      <th></th>\n",
       "      <th></th>\n",
       "      <th></th>\n",
       "      <th></th>\n",
       "      <th></th>\n",
       "      <th></th>\n",
       "      <th></th>\n",
       "    </tr>\n",
       "  </thead>\n",
       "  <tbody>\n",
       "    <tr>\n",
       "      <th>1</th>\n",
       "      <td>3</td>\n",
       "      <td>alfa-romero giulia</td>\n",
       "      <td>two</td>\n",
       "      <td>convertible</td>\n",
       "      <td>front</td>\n",
       "      <td>88.6</td>\n",
       "      <td>168.8</td>\n",
       "      <td>64.1</td>\n",
       "      <td>48.8</td>\n",
       "      <td>2548</td>\n",
       "      <td>four</td>\n",
       "      <td>130</td>\n",
       "      <td>3.47</td>\n",
       "      <td>2.68</td>\n",
       "      <td>9.0</td>\n",
       "      <td>111</td>\n",
       "      <td>5000</td>\n",
       "      <td>21</td>\n",
       "      <td>27</td>\n",
       "      <td>13495.0</td>\n",
       "    </tr>\n",
       "    <tr>\n",
       "      <th>2</th>\n",
       "      <td>3</td>\n",
       "      <td>alfa-romero stelvio</td>\n",
       "      <td>two</td>\n",
       "      <td>convertible</td>\n",
       "      <td>front</td>\n",
       "      <td>88.6</td>\n",
       "      <td>168.8</td>\n",
       "      <td>64.1</td>\n",
       "      <td>48.8</td>\n",
       "      <td>2548</td>\n",
       "      <td>four</td>\n",
       "      <td>130</td>\n",
       "      <td>3.47</td>\n",
       "      <td>2.68</td>\n",
       "      <td>9.0</td>\n",
       "      <td>111</td>\n",
       "      <td>5000</td>\n",
       "      <td>21</td>\n",
       "      <td>27</td>\n",
       "      <td>16500.0</td>\n",
       "    </tr>\n",
       "    <tr>\n",
       "      <th>3</th>\n",
       "      <td>1</td>\n",
       "      <td>alfa-romero Quadrifoglio</td>\n",
       "      <td>two</td>\n",
       "      <td>hatchback</td>\n",
       "      <td>front</td>\n",
       "      <td>94.5</td>\n",
       "      <td>171.2</td>\n",
       "      <td>65.5</td>\n",
       "      <td>52.4</td>\n",
       "      <td>2823</td>\n",
       "      <td>six</td>\n",
       "      <td>152</td>\n",
       "      <td>2.68</td>\n",
       "      <td>3.47</td>\n",
       "      <td>9.0</td>\n",
       "      <td>154</td>\n",
       "      <td>5000</td>\n",
       "      <td>19</td>\n",
       "      <td>26</td>\n",
       "      <td>16500.0</td>\n",
       "    </tr>\n",
       "    <tr>\n",
       "      <th>4</th>\n",
       "      <td>2</td>\n",
       "      <td>audi 100 ls</td>\n",
       "      <td>four</td>\n",
       "      <td>sedan</td>\n",
       "      <td>front</td>\n",
       "      <td>99.8</td>\n",
       "      <td>176.6</td>\n",
       "      <td>66.2</td>\n",
       "      <td>54.3</td>\n",
       "      <td>2337</td>\n",
       "      <td>four</td>\n",
       "      <td>109</td>\n",
       "      <td>3.19</td>\n",
       "      <td>3.40</td>\n",
       "      <td>10.0</td>\n",
       "      <td>102</td>\n",
       "      <td>5500</td>\n",
       "      <td>24</td>\n",
       "      <td>30</td>\n",
       "      <td>13950.0</td>\n",
       "    </tr>\n",
       "    <tr>\n",
       "      <th>5</th>\n",
       "      <td>2</td>\n",
       "      <td>audi 100ls</td>\n",
       "      <td>four</td>\n",
       "      <td>sedan</td>\n",
       "      <td>front</td>\n",
       "      <td>99.4</td>\n",
       "      <td>176.6</td>\n",
       "      <td>66.4</td>\n",
       "      <td>54.3</td>\n",
       "      <td>2824</td>\n",
       "      <td>five</td>\n",
       "      <td>136</td>\n",
       "      <td>3.19</td>\n",
       "      <td>3.40</td>\n",
       "      <td>8.0</td>\n",
       "      <td>115</td>\n",
       "      <td>5500</td>\n",
       "      <td>18</td>\n",
       "      <td>22</td>\n",
       "      <td>17450.0</td>\n",
       "    </tr>\n",
       "  </tbody>\n",
       "</table>\n",
       "</div>"
      ],
      "text/plain": [
       "        symboling                   carname doornumber      carbody  \\\n",
       "car_ID                                                                \n",
       "1               3        alfa-romero giulia        two  convertible   \n",
       "2               3       alfa-romero stelvio        two  convertible   \n",
       "3               1  alfa-romero Quadrifoglio        two    hatchback   \n",
       "4               2               audi 100 ls       four        sedan   \n",
       "5               2                audi 100ls       four        sedan   \n",
       "\n",
       "       enginelocation  wheelbase  carlength  carwidth  carheight  curbweight  \\\n",
       "car_ID                                                                         \n",
       "1               front       88.6      168.8      64.1       48.8        2548   \n",
       "2               front       88.6      168.8      64.1       48.8        2548   \n",
       "3               front       94.5      171.2      65.5       52.4        2823   \n",
       "4               front       99.8      176.6      66.2       54.3        2337   \n",
       "5               front       99.4      176.6      66.4       54.3        2824   \n",
       "\n",
       "       cylindernumber  enginesize  boreratio  stroke  compressionratio  \\\n",
       "car_ID                                                                   \n",
       "1                four         130       3.47    2.68               9.0   \n",
       "2                four         130       3.47    2.68               9.0   \n",
       "3                 six         152       2.68    3.47               9.0   \n",
       "4                four         109       3.19    3.40              10.0   \n",
       "5                five         136       3.19    3.40               8.0   \n",
       "\n",
       "        horsepower  peakrpm  citympg  highwaympg    price  \n",
       "car_ID                                                     \n",
       "1              111     5000       21          27  13495.0  \n",
       "2              111     5000       21          27  16500.0  \n",
       "3              154     5000       19          26  16500.0  \n",
       "4              102     5500       24          30  13950.0  \n",
       "5              115     5500       18          22  17450.0  "
      ]
     },
     "execution_count": 4,
     "metadata": {},
     "output_type": "execute_result"
    }
   ],
   "source": [
    "df = pd.read_csv('../data/raw/carprices.csv', index_col = 'car_ID')\n",
    "df.head()"
   ]
  },
  {
   "cell_type": "code",
   "execution_count": 5,
   "id": "904ebdb1",
   "metadata": {},
   "outputs": [
    {
     "ename": "FileNotFoundError",
     "evalue": "[Errno 2] No such file or directory: 'carpricesdatadescription.csv'",
     "output_type": "error",
     "traceback": [
      "\u001b[31m---------------------------------------------------------------------------\u001b[39m",
      "\u001b[31mFileNotFoundError\u001b[39m                         Traceback (most recent call last)",
      "\u001b[36mCell\u001b[39m\u001b[36m \u001b[39m\u001b[32mIn[5]\u001b[39m\u001b[32m, line 2\u001b[39m\n\u001b[32m      1\u001b[39m \u001b[38;5;66;03m# Load the data description and take a look at it\u001b[39;00m\n\u001b[32m----> \u001b[39m\u001b[32m2\u001b[39m dd = \u001b[43mpd\u001b[49m\u001b[43m.\u001b[49m\u001b[43mread_csv\u001b[49m\u001b[43m(\u001b[49m\u001b[33;43m'\u001b[39;49m\u001b[33;43mcarpricesdatadescription.csv\u001b[39;49m\u001b[33;43m'\u001b[39;49m\u001b[43m,\u001b[49m\u001b[43m \u001b[49m\u001b[43mindex_col\u001b[49m\u001b[43m \u001b[49m\u001b[43m=\u001b[49m\u001b[43m \u001b[49m\u001b[33;43m'\u001b[39;49m\u001b[33;43mfeature\u001b[39;49m\u001b[33;43m'\u001b[39;49m\u001b[43m)\u001b[49m\n\u001b[32m      3\u001b[39m \u001b[38;5;28mprint\u001b[39m(dd)\n",
      "\u001b[36mFile \u001b[39m\u001b[32m/opt/homebrew/Caskroom/miniforge/base/envs/ai-lab/lib/python3.13/site-packages/pandas/io/parsers/readers.py:1026\u001b[39m, in \u001b[36mread_csv\u001b[39m\u001b[34m(filepath_or_buffer, sep, delimiter, header, names, index_col, usecols, dtype, engine, converters, true_values, false_values, skipinitialspace, skiprows, skipfooter, nrows, na_values, keep_default_na, na_filter, verbose, skip_blank_lines, parse_dates, infer_datetime_format, keep_date_col, date_parser, date_format, dayfirst, cache_dates, iterator, chunksize, compression, thousands, decimal, lineterminator, quotechar, quoting, doublequote, escapechar, comment, encoding, encoding_errors, dialect, on_bad_lines, delim_whitespace, low_memory, memory_map, float_precision, storage_options, dtype_backend)\u001b[39m\n\u001b[32m   1013\u001b[39m kwds_defaults = _refine_defaults_read(\n\u001b[32m   1014\u001b[39m     dialect,\n\u001b[32m   1015\u001b[39m     delimiter,\n\u001b[32m   (...)\u001b[39m\u001b[32m   1022\u001b[39m     dtype_backend=dtype_backend,\n\u001b[32m   1023\u001b[39m )\n\u001b[32m   1024\u001b[39m kwds.update(kwds_defaults)\n\u001b[32m-> \u001b[39m\u001b[32m1026\u001b[39m \u001b[38;5;28;01mreturn\u001b[39;00m \u001b[43m_read\u001b[49m\u001b[43m(\u001b[49m\u001b[43mfilepath_or_buffer\u001b[49m\u001b[43m,\u001b[49m\u001b[43m \u001b[49m\u001b[43mkwds\u001b[49m\u001b[43m)\u001b[49m\n",
      "\u001b[36mFile \u001b[39m\u001b[32m/opt/homebrew/Caskroom/miniforge/base/envs/ai-lab/lib/python3.13/site-packages/pandas/io/parsers/readers.py:620\u001b[39m, in \u001b[36m_read\u001b[39m\u001b[34m(filepath_or_buffer, kwds)\u001b[39m\n\u001b[32m    617\u001b[39m _validate_names(kwds.get(\u001b[33m\"\u001b[39m\u001b[33mnames\u001b[39m\u001b[33m\"\u001b[39m, \u001b[38;5;28;01mNone\u001b[39;00m))\n\u001b[32m    619\u001b[39m \u001b[38;5;66;03m# Create the parser.\u001b[39;00m\n\u001b[32m--> \u001b[39m\u001b[32m620\u001b[39m parser = \u001b[43mTextFileReader\u001b[49m\u001b[43m(\u001b[49m\u001b[43mfilepath_or_buffer\u001b[49m\u001b[43m,\u001b[49m\u001b[43m \u001b[49m\u001b[43m*\u001b[49m\u001b[43m*\u001b[49m\u001b[43mkwds\u001b[49m\u001b[43m)\u001b[49m\n\u001b[32m    622\u001b[39m \u001b[38;5;28;01mif\u001b[39;00m chunksize \u001b[38;5;129;01mor\u001b[39;00m iterator:\n\u001b[32m    623\u001b[39m     \u001b[38;5;28;01mreturn\u001b[39;00m parser\n",
      "\u001b[36mFile \u001b[39m\u001b[32m/opt/homebrew/Caskroom/miniforge/base/envs/ai-lab/lib/python3.13/site-packages/pandas/io/parsers/readers.py:1620\u001b[39m, in \u001b[36mTextFileReader.__init__\u001b[39m\u001b[34m(self, f, engine, **kwds)\u001b[39m\n\u001b[32m   1617\u001b[39m     \u001b[38;5;28mself\u001b[39m.options[\u001b[33m\"\u001b[39m\u001b[33mhas_index_names\u001b[39m\u001b[33m\"\u001b[39m] = kwds[\u001b[33m\"\u001b[39m\u001b[33mhas_index_names\u001b[39m\u001b[33m\"\u001b[39m]\n\u001b[32m   1619\u001b[39m \u001b[38;5;28mself\u001b[39m.handles: IOHandles | \u001b[38;5;28;01mNone\u001b[39;00m = \u001b[38;5;28;01mNone\u001b[39;00m\n\u001b[32m-> \u001b[39m\u001b[32m1620\u001b[39m \u001b[38;5;28mself\u001b[39m._engine = \u001b[38;5;28;43mself\u001b[39;49m\u001b[43m.\u001b[49m\u001b[43m_make_engine\u001b[49m\u001b[43m(\u001b[49m\u001b[43mf\u001b[49m\u001b[43m,\u001b[49m\u001b[43m \u001b[49m\u001b[38;5;28;43mself\u001b[39;49m\u001b[43m.\u001b[49m\u001b[43mengine\u001b[49m\u001b[43m)\u001b[49m\n",
      "\u001b[36mFile \u001b[39m\u001b[32m/opt/homebrew/Caskroom/miniforge/base/envs/ai-lab/lib/python3.13/site-packages/pandas/io/parsers/readers.py:1880\u001b[39m, in \u001b[36mTextFileReader._make_engine\u001b[39m\u001b[34m(self, f, engine)\u001b[39m\n\u001b[32m   1878\u001b[39m     \u001b[38;5;28;01mif\u001b[39;00m \u001b[33m\"\u001b[39m\u001b[33mb\u001b[39m\u001b[33m\"\u001b[39m \u001b[38;5;129;01mnot\u001b[39;00m \u001b[38;5;129;01min\u001b[39;00m mode:\n\u001b[32m   1879\u001b[39m         mode += \u001b[33m\"\u001b[39m\u001b[33mb\u001b[39m\u001b[33m\"\u001b[39m\n\u001b[32m-> \u001b[39m\u001b[32m1880\u001b[39m \u001b[38;5;28mself\u001b[39m.handles = \u001b[43mget_handle\u001b[49m\u001b[43m(\u001b[49m\n\u001b[32m   1881\u001b[39m \u001b[43m    \u001b[49m\u001b[43mf\u001b[49m\u001b[43m,\u001b[49m\n\u001b[32m   1882\u001b[39m \u001b[43m    \u001b[49m\u001b[43mmode\u001b[49m\u001b[43m,\u001b[49m\n\u001b[32m   1883\u001b[39m \u001b[43m    \u001b[49m\u001b[43mencoding\u001b[49m\u001b[43m=\u001b[49m\u001b[38;5;28;43mself\u001b[39;49m\u001b[43m.\u001b[49m\u001b[43moptions\u001b[49m\u001b[43m.\u001b[49m\u001b[43mget\u001b[49m\u001b[43m(\u001b[49m\u001b[33;43m\"\u001b[39;49m\u001b[33;43mencoding\u001b[39;49m\u001b[33;43m\"\u001b[39;49m\u001b[43m,\u001b[49m\u001b[43m \u001b[49m\u001b[38;5;28;43;01mNone\u001b[39;49;00m\u001b[43m)\u001b[49m\u001b[43m,\u001b[49m\n\u001b[32m   1884\u001b[39m \u001b[43m    \u001b[49m\u001b[43mcompression\u001b[49m\u001b[43m=\u001b[49m\u001b[38;5;28;43mself\u001b[39;49m\u001b[43m.\u001b[49m\u001b[43moptions\u001b[49m\u001b[43m.\u001b[49m\u001b[43mget\u001b[49m\u001b[43m(\u001b[49m\u001b[33;43m\"\u001b[39;49m\u001b[33;43mcompression\u001b[39;49m\u001b[33;43m\"\u001b[39;49m\u001b[43m,\u001b[49m\u001b[43m \u001b[49m\u001b[38;5;28;43;01mNone\u001b[39;49;00m\u001b[43m)\u001b[49m\u001b[43m,\u001b[49m\n\u001b[32m   1885\u001b[39m \u001b[43m    \u001b[49m\u001b[43mmemory_map\u001b[49m\u001b[43m=\u001b[49m\u001b[38;5;28;43mself\u001b[39;49m\u001b[43m.\u001b[49m\u001b[43moptions\u001b[49m\u001b[43m.\u001b[49m\u001b[43mget\u001b[49m\u001b[43m(\u001b[49m\u001b[33;43m\"\u001b[39;49m\u001b[33;43mmemory_map\u001b[39;49m\u001b[33;43m\"\u001b[39;49m\u001b[43m,\u001b[49m\u001b[43m \u001b[49m\u001b[38;5;28;43;01mFalse\u001b[39;49;00m\u001b[43m)\u001b[49m\u001b[43m,\u001b[49m\n\u001b[32m   1886\u001b[39m \u001b[43m    \u001b[49m\u001b[43mis_text\u001b[49m\u001b[43m=\u001b[49m\u001b[43mis_text\u001b[49m\u001b[43m,\u001b[49m\n\u001b[32m   1887\u001b[39m \u001b[43m    \u001b[49m\u001b[43merrors\u001b[49m\u001b[43m=\u001b[49m\u001b[38;5;28;43mself\u001b[39;49m\u001b[43m.\u001b[49m\u001b[43moptions\u001b[49m\u001b[43m.\u001b[49m\u001b[43mget\u001b[49m\u001b[43m(\u001b[49m\u001b[33;43m\"\u001b[39;49m\u001b[33;43mencoding_errors\u001b[39;49m\u001b[33;43m\"\u001b[39;49m\u001b[43m,\u001b[49m\u001b[43m \u001b[49m\u001b[33;43m\"\u001b[39;49m\u001b[33;43mstrict\u001b[39;49m\u001b[33;43m\"\u001b[39;49m\u001b[43m)\u001b[49m\u001b[43m,\u001b[49m\n\u001b[32m   1888\u001b[39m \u001b[43m    \u001b[49m\u001b[43mstorage_options\u001b[49m\u001b[43m=\u001b[49m\u001b[38;5;28;43mself\u001b[39;49m\u001b[43m.\u001b[49m\u001b[43moptions\u001b[49m\u001b[43m.\u001b[49m\u001b[43mget\u001b[49m\u001b[43m(\u001b[49m\u001b[33;43m\"\u001b[39;49m\u001b[33;43mstorage_options\u001b[39;49m\u001b[33;43m\"\u001b[39;49m\u001b[43m,\u001b[49m\u001b[43m \u001b[49m\u001b[38;5;28;43;01mNone\u001b[39;49;00m\u001b[43m)\u001b[49m\u001b[43m,\u001b[49m\n\u001b[32m   1889\u001b[39m \u001b[43m\u001b[49m\u001b[43m)\u001b[49m\n\u001b[32m   1890\u001b[39m \u001b[38;5;28;01massert\u001b[39;00m \u001b[38;5;28mself\u001b[39m.handles \u001b[38;5;129;01mis\u001b[39;00m \u001b[38;5;129;01mnot\u001b[39;00m \u001b[38;5;28;01mNone\u001b[39;00m\n\u001b[32m   1891\u001b[39m f = \u001b[38;5;28mself\u001b[39m.handles.handle\n",
      "\u001b[36mFile \u001b[39m\u001b[32m/opt/homebrew/Caskroom/miniforge/base/envs/ai-lab/lib/python3.13/site-packages/pandas/io/common.py:873\u001b[39m, in \u001b[36mget_handle\u001b[39m\u001b[34m(path_or_buf, mode, encoding, compression, memory_map, is_text, errors, storage_options)\u001b[39m\n\u001b[32m    868\u001b[39m \u001b[38;5;28;01melif\u001b[39;00m \u001b[38;5;28misinstance\u001b[39m(handle, \u001b[38;5;28mstr\u001b[39m):\n\u001b[32m    869\u001b[39m     \u001b[38;5;66;03m# Check whether the filename is to be opened in binary mode.\u001b[39;00m\n\u001b[32m    870\u001b[39m     \u001b[38;5;66;03m# Binary mode does not support 'encoding' and 'newline'.\u001b[39;00m\n\u001b[32m    871\u001b[39m     \u001b[38;5;28;01mif\u001b[39;00m ioargs.encoding \u001b[38;5;129;01mand\u001b[39;00m \u001b[33m\"\u001b[39m\u001b[33mb\u001b[39m\u001b[33m\"\u001b[39m \u001b[38;5;129;01mnot\u001b[39;00m \u001b[38;5;129;01min\u001b[39;00m ioargs.mode:\n\u001b[32m    872\u001b[39m         \u001b[38;5;66;03m# Encoding\u001b[39;00m\n\u001b[32m--> \u001b[39m\u001b[32m873\u001b[39m         handle = \u001b[38;5;28;43mopen\u001b[39;49m\u001b[43m(\u001b[49m\n\u001b[32m    874\u001b[39m \u001b[43m            \u001b[49m\u001b[43mhandle\u001b[49m\u001b[43m,\u001b[49m\n\u001b[32m    875\u001b[39m \u001b[43m            \u001b[49m\u001b[43mioargs\u001b[49m\u001b[43m.\u001b[49m\u001b[43mmode\u001b[49m\u001b[43m,\u001b[49m\n\u001b[32m    876\u001b[39m \u001b[43m            \u001b[49m\u001b[43mencoding\u001b[49m\u001b[43m=\u001b[49m\u001b[43mioargs\u001b[49m\u001b[43m.\u001b[49m\u001b[43mencoding\u001b[49m\u001b[43m,\u001b[49m\n\u001b[32m    877\u001b[39m \u001b[43m            \u001b[49m\u001b[43merrors\u001b[49m\u001b[43m=\u001b[49m\u001b[43merrors\u001b[49m\u001b[43m,\u001b[49m\n\u001b[32m    878\u001b[39m \u001b[43m            \u001b[49m\u001b[43mnewline\u001b[49m\u001b[43m=\u001b[49m\u001b[33;43m\"\u001b[39;49m\u001b[33;43m\"\u001b[39;49m\u001b[43m,\u001b[49m\n\u001b[32m    879\u001b[39m \u001b[43m        \u001b[49m\u001b[43m)\u001b[49m\n\u001b[32m    880\u001b[39m     \u001b[38;5;28;01melse\u001b[39;00m:\n\u001b[32m    881\u001b[39m         \u001b[38;5;66;03m# Binary mode\u001b[39;00m\n\u001b[32m    882\u001b[39m         handle = \u001b[38;5;28mopen\u001b[39m(handle, ioargs.mode)\n",
      "\u001b[31mFileNotFoundError\u001b[39m: [Errno 2] No such file or directory: 'carpricesdatadescription.csv'"
     ]
    }
   ],
   "source": [
    "# Load the data description and take a look at it\n",
    "dd = pd.read_csv('carpricesdatadescription.csv', index_col = 'feature')\n",
    "print(dd)"
   ]
  },
  {
   "cell_type": "code",
   "execution_count": 6,
   "id": "f1d86059-422a-4725-9398-d9c60d1d5f39",
   "metadata": {},
   "outputs": [
    {
     "name": "stdout",
     "output_type": "stream",
     "text": [
      "<class 'pandas.core.frame.DataFrame'>\n",
      "Index: 205 entries, 1 to 205\n",
      "Data columns (total 20 columns):\n",
      " #   Column            Non-Null Count  Dtype  \n",
      "---  ------            --------------  -----  \n",
      " 0   symboling         205 non-null    int64  \n",
      " 1   carname           205 non-null    object \n",
      " 2   doornumber        205 non-null    object \n",
      " 3   carbody           205 non-null    object \n",
      " 4   enginelocation    205 non-null    object \n",
      " 5   wheelbase         205 non-null    float64\n",
      " 6   carlength         205 non-null    float64\n",
      " 7   carwidth          205 non-null    float64\n",
      " 8   carheight         205 non-null    float64\n",
      " 9   curbweight        205 non-null    int64  \n",
      " 10  cylindernumber    205 non-null    object \n",
      " 11  enginesize        205 non-null    int64  \n",
      " 12  boreratio         205 non-null    float64\n",
      " 13  stroke            205 non-null    float64\n",
      " 14  compressionratio  205 non-null    float64\n",
      " 15  horsepower        205 non-null    int64  \n",
      " 16  peakrpm           205 non-null    int64  \n",
      " 17  citympg           205 non-null    int64  \n",
      " 18  highwaympg        205 non-null    int64  \n",
      " 19  price             205 non-null    float64\n",
      "dtypes: float64(8), int64(7), object(5)\n",
      "memory usage: 33.6+ KB\n"
     ]
    }
   ],
   "source": [
    "df.info()"
   ]
  },
  {
   "cell_type": "markdown",
   "id": "e653284b-ca24-46fb-b048-0ca834161b6f",
   "metadata": {},
   "source": [
    "We can see that our data contains some categorical predictors. We will convert these to categories."
   ]
  },
  {
   "cell_type": "code",
   "execution_count": 7,
   "id": "dba83075",
   "metadata": {},
   "outputs": [],
   "source": [
    "# Convert qualitative predictors to the 'category' data type\n",
    "categorical_columns = df.select_dtypes(include = 'object').columns\n",
    "df[categorical_columns] = df[categorical_columns].astype('category')\n",
    "\n",
    "# Convert the 'symboling' feature to the 'category' datatype as well\n",
    "df['symboling'] = df['symboling'].astype('category')"
   ]
  },
  {
   "cell_type": "markdown",
   "id": "8d2ac9c6",
   "metadata": {},
   "source": [
    "Drop the car name as it won't be useful in the overall analysis"
   ]
  },
  {
   "cell_type": "code",
   "execution_count": 8,
   "id": "46ce2de7",
   "metadata": {},
   "outputs": [],
   "source": [
    "df.drop(labels = 'carname', axis = 1, inplace = True)  # Drop carname"
   ]
  },
  {
   "cell_type": "code",
   "execution_count": 9,
   "id": "24675b7c",
   "metadata": {},
   "outputs": [
    {
     "data": {
      "text/plain": [
       "(205, 19)"
      ]
     },
     "execution_count": 9,
     "metadata": {},
     "output_type": "execute_result"
    }
   ],
   "source": [
    "df.shape  # Check the shape and size of the data"
   ]
  },
  {
   "cell_type": "markdown",
   "id": "dc14a980",
   "metadata": {},
   "source": [
    "For this demonstration, let's use a smaller subset of features. The learner may explore with another subset of the data."
   ]
  },
  {
   "cell_type": "code",
   "execution_count": 10,
   "id": "50318657",
   "metadata": {},
   "outputs": [],
   "source": [
    "# Retain a select number of columns for the purposes of this demonstration\n",
    "df = df[['symboling', 'carbody',\n",
    "         'wheelbase', 'curbweight',\n",
    "         'enginesize', 'boreratio',\n",
    "         'stroke', 'horsepower',\n",
    "         'citympg', 'price']]"
   ]
  },
  {
   "cell_type": "code",
   "execution_count": 11,
   "id": "d87351e6",
   "metadata": {},
   "outputs": [],
   "source": [
    "# Store the categorical column names if we need these ahead\n",
    "categorical_columns = df.select_dtypes(include = 'category').columns"
   ]
  },
  {
   "cell_type": "markdown",
   "id": "00236dd6",
   "metadata": {},
   "source": [
    "Let's proceed to perform a train-test split on our data"
   ]
  },
  {
   "cell_type": "code",
   "execution_count": 12,
   "id": "724d98b8",
   "metadata": {},
   "outputs": [],
   "source": [
    "# First split by predictors and target\n",
    "X = df.drop(labels = 'price', axis = 1)\n",
    "y = df['price']"
   ]
  },
  {
   "cell_type": "markdown",
   "id": "fc0364b5",
   "metadata": {},
   "source": [
    "We will be using the validation data to improve the model when being trained on the training data. The testing data will be used as the final indicator of the predictive performance of the model."
   ]
  },
  {
   "cell_type": "code",
   "execution_count": 13,
   "id": "89e8fea7-68a5-4086-a282-57dc0f98d027",
   "metadata": {},
   "outputs": [
    {
     "name": "stdout",
     "output_type": "stream",
     "text": [
      "Dimensions of X_train: (123, 9)\n",
      "Dimensions of y_train: (123,)\n",
      "Dimensions of X_val: (41, 9)\n",
      "Dimensions of y_val: (41,)\n",
      "Dimensions of X_test: (41, 9)\n",
      "Dimensions of y_test: (41,)\n"
     ]
    }
   ],
   "source": [
    "# Train-Val-Test split\n",
    "X_train, X_temp, y_train, y_temp = train_test_split(X, y, test_size = 0.4, random_state = 0)\n",
    "X_val, X_test, y_val, y_test = train_test_split(X_temp, y_temp, test_size = 0.5, random_state = 0)\n",
    "\n",
    "print('Dimensions of X_train:', X_train.shape); print('Dimensions of y_train:', y_train.shape)\n",
    "print('Dimensions of X_val:', X_val.shape); print('Dimensions of y_val:', y_val.shape)\n",
    "print('Dimensions of X_test:', X_test.shape); print('Dimensions of y_test:', y_test.shape)"
   ]
  },
  {
   "cell_type": "markdown",
   "id": "4d8b2936-3ba2-40ec-9b8c-b8ee6aa26e6e",
   "metadata": {},
   "source": [
    "In general, and **especially while regularising our data**, it is important that our predictors be on the same scale; we will use min-max scaling to achieve this. Although linear regression is not affected too much by the scale of features, we have to scale them for regularisation."
   ]
  },
  {
   "cell_type": "code",
   "execution_count": 14,
   "id": "b4e3f8ff-cbf1-4a78-b687-4f2def7287c5",
   "metadata": {},
   "outputs": [],
   "source": [
    "# Fit a scaler to the training data and transform all the datasets\n",
    "scaler = MinMaxScaler()\n",
    "numerical_columns = X_train.select_dtypes(include = ['int64', 'float64']).columns\n",
    "X_train[numerical_columns] = scaler.fit_transform(X_train[numerical_columns])\n",
    "X_val[numerical_columns] = scaler.transform(X_val[numerical_columns])\n",
    "X_test[numerical_columns] = scaler.transform(X_test[numerical_columns])"
   ]
  },
  {
   "cell_type": "markdown",
   "id": "4850cf0e-80ae-47e7-8ec7-49dbf4fa9f18",
   "metadata": {},
   "source": [
    "Remember, you should fit the scaler only on the training data and then apply that fitted transformation to the testing data. This ensures the testing set remains unseen and unbiased, while still being scaled consistently with the training data.\n",
    "\n",
    "\n",
    "Now, before we start fitting a regression model on the data, we need to encode the categories using dummy variables"
   ]
  },
  {
   "cell_type": "code",
   "execution_count": 15,
   "id": "5818dc0c",
   "metadata": {},
   "outputs": [
    {
     "data": {
      "text/plain": [
       "Index(['wheelbase', 'curbweight', 'enginesize', 'boreratio', 'stroke',\n",
       "       'horsepower', 'citympg', 'carbody_hardtop', 'carbody_hatchback',\n",
       "       'carbody_sedan', 'carbody_wagon', 'symboling_-1', 'symboling_0',\n",
       "       'symboling_1', 'symboling_2', 'symboling_3'],\n",
       "      dtype='object')"
      ]
     },
     "execution_count": 15,
     "metadata": {},
     "output_type": "execute_result"
    }
   ],
   "source": [
    "# Obtain dummy variables for the categorical features in the training, validation and testing input data\n",
    "X_train_dummies = pd.get_dummies(data = X_train, columns = ['carbody', 'symboling'], drop_first = True)\n",
    "X_val_dummies = pd.get_dummies(data = X_val, columns = ['carbody', 'symboling'], drop_first = True)\n",
    "X_test_dummies = pd.get_dummies(data = X_test, columns = ['carbody', 'symboling'], drop_first = True)\n",
    "\n",
    "X_val_dummies.columns"
   ]
  },
  {
   "cell_type": "code",
   "execution_count": 16,
   "id": "3adefbed",
   "metadata": {},
   "outputs": [],
   "source": [
    "# Store the list of features in a variable for easy reference\n",
    "features_considered = ['symboling_-1', 'symboling_0', 'symboling_1', 'symboling_2', 'symboling_3', 'carbody_hardtop', 'carbody_hatchback', 'carbody_sedan', 'carbody_wagon', 'wheelbase', 'curbweight', 'enginesize', 'boreratio', 'stroke', 'horsepower', 'citympg']"
   ]
  },
  {
   "cell_type": "markdown",
   "id": "aba56201",
   "metadata": {},
   "source": [
    "### Unregularised Linear Regression Model\n",
    "\n",
    "Let's start with an unregularised model and then use it to compare the performance of regularised ones"
   ]
  },
  {
   "cell_type": "code",
   "execution_count": 17,
   "id": "2dc320a3",
   "metadata": {},
   "outputs": [],
   "source": [
    "lr_model_1 = LinearRegression()\n",
    "lr_model_1 = lr_model_1.fit(X_train_dummies[features_considered], y_train)"
   ]
  },
  {
   "cell_type": "code",
   "execution_count": 18,
   "id": "01f3680e",
   "metadata": {},
   "outputs": [
    {
     "data": {
      "text/html": [
       "<div>\n",
       "<style scoped>\n",
       "    .dataframe tbody tr th:only-of-type {\n",
       "        vertical-align: middle;\n",
       "    }\n",
       "\n",
       "    .dataframe tbody tr th {\n",
       "        vertical-align: top;\n",
       "    }\n",
       "\n",
       "    .dataframe thead th {\n",
       "        text-align: right;\n",
       "    }\n",
       "</style>\n",
       "<table border=\"1\" class=\"dataframe\">\n",
       "  <thead>\n",
       "    <tr style=\"text-align: right;\">\n",
       "      <th></th>\n",
       "      <th>Feature</th>\n",
       "      <th>Coefficients</th>\n",
       "    </tr>\n",
       "  </thead>\n",
       "  <tbody>\n",
       "    <tr>\n",
       "      <th>0</th>\n",
       "      <td>symboling_-1</td>\n",
       "      <td>2036.46</td>\n",
       "    </tr>\n",
       "    <tr>\n",
       "      <th>1</th>\n",
       "      <td>symboling_0</td>\n",
       "      <td>2416.82</td>\n",
       "    </tr>\n",
       "    <tr>\n",
       "      <th>2</th>\n",
       "      <td>symboling_1</td>\n",
       "      <td>2495.54</td>\n",
       "    </tr>\n",
       "    <tr>\n",
       "      <th>3</th>\n",
       "      <td>symboling_2</td>\n",
       "      <td>2039.31</td>\n",
       "    </tr>\n",
       "    <tr>\n",
       "      <th>4</th>\n",
       "      <td>symboling_3</td>\n",
       "      <td>5501.72</td>\n",
       "    </tr>\n",
       "    <tr>\n",
       "      <th>5</th>\n",
       "      <td>carbody_hardtop</td>\n",
       "      <td>-1875.36</td>\n",
       "    </tr>\n",
       "    <tr>\n",
       "      <th>6</th>\n",
       "      <td>carbody_hatchback</td>\n",
       "      <td>-6263.59</td>\n",
       "    </tr>\n",
       "    <tr>\n",
       "      <th>7</th>\n",
       "      <td>carbody_sedan</td>\n",
       "      <td>-5320.67</td>\n",
       "    </tr>\n",
       "    <tr>\n",
       "      <th>8</th>\n",
       "      <td>carbody_wagon</td>\n",
       "      <td>-7573.76</td>\n",
       "    </tr>\n",
       "    <tr>\n",
       "      <th>9</th>\n",
       "      <td>wheelbase</td>\n",
       "      <td>15210.12</td>\n",
       "    </tr>\n",
       "    <tr>\n",
       "      <th>10</th>\n",
       "      <td>curbweight</td>\n",
       "      <td>7617.15</td>\n",
       "    </tr>\n",
       "    <tr>\n",
       "      <th>11</th>\n",
       "      <td>enginesize</td>\n",
       "      <td>13115.27</td>\n",
       "    </tr>\n",
       "    <tr>\n",
       "      <th>12</th>\n",
       "      <td>boreratio</td>\n",
       "      <td>-4684.21</td>\n",
       "    </tr>\n",
       "    <tr>\n",
       "      <th>13</th>\n",
       "      <td>stroke</td>\n",
       "      <td>-5841.06</td>\n",
       "    </tr>\n",
       "    <tr>\n",
       "      <th>14</th>\n",
       "      <td>horsepower</td>\n",
       "      <td>18257.82</td>\n",
       "    </tr>\n",
       "    <tr>\n",
       "      <th>15</th>\n",
       "      <td>citympg</td>\n",
       "      <td>3465.63</td>\n",
       "    </tr>\n",
       "  </tbody>\n",
       "</table>\n",
       "</div>"
      ],
      "text/plain": [
       "              Feature  Coefficients\n",
       "0        symboling_-1       2036.46\n",
       "1         symboling_0       2416.82\n",
       "2         symboling_1       2495.54\n",
       "3         symboling_2       2039.31\n",
       "4         symboling_3       5501.72\n",
       "5     carbody_hardtop      -1875.36\n",
       "6   carbody_hatchback      -6263.59\n",
       "7       carbody_sedan      -5320.67\n",
       "8       carbody_wagon      -7573.76\n",
       "9           wheelbase      15210.12\n",
       "10         curbweight       7617.15\n",
       "11         enginesize      13115.27\n",
       "12          boreratio      -4684.21\n",
       "13             stroke      -5841.06\n",
       "14         horsepower      18257.82\n",
       "15            citympg       3465.63"
      ]
     },
     "execution_count": 18,
     "metadata": {},
     "output_type": "execute_result"
    }
   ],
   "source": [
    "# Check the coefficients of the unregularized model\n",
    "pd.DataFrame({\"Feature\": features_considered, \"Coefficients\": lr_model_1.coef_}).round(2)"
   ]
  },
  {
   "cell_type": "markdown",
   "id": "6ad1ffd5",
   "metadata": {},
   "source": [
    "These large values of coefficients seem fine considering the prices of cars will be large values"
   ]
  },
  {
   "cell_type": "code",
   "execution_count": 19,
   "id": "b56d2854",
   "metadata": {},
   "outputs": [
    {
     "name": "stdout",
     "output_type": "stream",
     "text": [
      "Training RMSE =  2897.95\n",
      "Validation RMSE =  4225.35\n"
     ]
    }
   ],
   "source": [
    "# Look at the predictive performance of this model\n",
    "y_pred_lr_list = lr_model_1.predict(X_train_dummies[features_considered])\n",
    "rmse = np.sqrt(mean_squared_error(y_true = y_train, y_pred = y_pred_lr_list))\n",
    "rmse = np.round(rmse, 2)\n",
    "print('Training RMSE = ', rmse)\n",
    "\n",
    "y_pred_lr_list = lr_model_1.predict(X_val_dummies[features_considered])\n",
    "rmse = np.sqrt(mean_squared_error(y_true = y_val, y_pred = y_pred_lr_list))\n",
    "rmse = np.round(rmse, 2)\n",
    "print('Validation RMSE = ', rmse)"
   ]
  },
  {
   "cell_type": "markdown",
   "id": "b6920848-b55c-44f8-a590-dc2da444bcf5",
   "metadata": {},
   "source": [
    "### Lasso (L1) Regularisation  \n",
    "\n",
    "Let’s now apply **Lasso regression**, which introduces an L1 penalty to the linear regression model and drops the less relevant features\n",
    "\n",
    "The regularisation strength is controlled by the parameter `alpha`:  \n",
    "- Larger `alpha` → stronger regularisation; more coefficients driven to zero\n",
    "- Smaller `alpha` → weaker regularisation; model fits the data more closely \n",
    "\n",
    "We will start with the default `alpha = 1`"
   ]
  },
  {
   "cell_type": "code",
   "execution_count": 20,
   "id": "b5dda874-b2ec-4c3a-8c03-7e29aa20043f",
   "metadata": {},
   "outputs": [],
   "source": [
    "lr_model_2 = Lasso(alpha=1)\n",
    "lr_model_2 = lr_model_2.fit(X_train_dummies[features_considered], y_train)\n",
    "\n",
    "y_pred_lr_list = lr_model_2.predict(X_train_dummies[features_considered])"
   ]
  },
  {
   "cell_type": "markdown",
   "id": "b5470da9",
   "metadata": {},
   "source": [
    "Here, `alpha` is a **hyperparameter** because it is set before training begins. Let's assess the performance of the lasso model."
   ]
  },
  {
   "cell_type": "code",
   "execution_count": 21,
   "id": "81ff9e80",
   "metadata": {},
   "outputs": [
    {
     "name": "stdout",
     "output_type": "stream",
     "text": [
      "Training RMSE =  2898.51\n",
      "Validation RMSE =  4208.09\n"
     ]
    }
   ],
   "source": [
    "rmse = np.sqrt(mean_squared_error(y_true = y_train, y_pred = y_pred_lr_list))\n",
    "rmse = np.round(rmse, 2)\n",
    "print('Training RMSE = ', rmse)\n",
    "\n",
    "y_pred_lr_list = lr_model_2.predict(X_val_dummies[features_considered])\n",
    "rmse = np.sqrt(mean_squared_error(y_true = y_val, y_pred = y_pred_lr_list))\n",
    "rmse = np.round(rmse, 2)\n",
    "print('Validation RMSE = ', rmse)"
   ]
  },
  {
   "cell_type": "markdown",
   "id": "d404a774",
   "metadata": {},
   "source": [
    "The values come out to be comparable with the baseline LR model. Let's see how the coefficients were changed"
   ]
  },
  {
   "cell_type": "code",
   "execution_count": 22,
   "id": "93ce16c1",
   "metadata": {},
   "outputs": [
    {
     "data": {
      "text/html": [
       "<div>\n",
       "<style scoped>\n",
       "    .dataframe tbody tr th:only-of-type {\n",
       "        vertical-align: middle;\n",
       "    }\n",
       "\n",
       "    .dataframe tbody tr th {\n",
       "        vertical-align: top;\n",
       "    }\n",
       "\n",
       "    .dataframe thead th {\n",
       "        text-align: right;\n",
       "    }\n",
       "</style>\n",
       "<table border=\"1\" class=\"dataframe\">\n",
       "  <thead>\n",
       "    <tr style=\"text-align: right;\">\n",
       "      <th></th>\n",
       "      <th>Feature</th>\n",
       "      <th>Coefficients - LR</th>\n",
       "      <th>Coefficients - Lasso</th>\n",
       "    </tr>\n",
       "  </thead>\n",
       "  <tbody>\n",
       "    <tr>\n",
       "      <th>0</th>\n",
       "      <td>symboling_-1</td>\n",
       "      <td>2036.46</td>\n",
       "      <td>1730.74</td>\n",
       "    </tr>\n",
       "    <tr>\n",
       "      <th>1</th>\n",
       "      <td>symboling_0</td>\n",
       "      <td>2416.82</td>\n",
       "      <td>2079.66</td>\n",
       "    </tr>\n",
       "    <tr>\n",
       "      <th>2</th>\n",
       "      <td>symboling_1</td>\n",
       "      <td>2495.54</td>\n",
       "      <td>2147.02</td>\n",
       "    </tr>\n",
       "    <tr>\n",
       "      <th>3</th>\n",
       "      <td>symboling_2</td>\n",
       "      <td>2039.31</td>\n",
       "      <td>1687.87</td>\n",
       "    </tr>\n",
       "    <tr>\n",
       "      <th>4</th>\n",
       "      <td>symboling_3</td>\n",
       "      <td>5501.72</td>\n",
       "      <td>5128.74</td>\n",
       "    </tr>\n",
       "    <tr>\n",
       "      <th>5</th>\n",
       "      <td>carbody_hardtop</td>\n",
       "      <td>-1875.36</td>\n",
       "      <td>-1692.52</td>\n",
       "    </tr>\n",
       "    <tr>\n",
       "      <th>6</th>\n",
       "      <td>carbody_hatchback</td>\n",
       "      <td>-6263.59</td>\n",
       "      <td>-6105.65</td>\n",
       "    </tr>\n",
       "    <tr>\n",
       "      <th>7</th>\n",
       "      <td>carbody_sedan</td>\n",
       "      <td>-5320.67</td>\n",
       "      <td>-5151.61</td>\n",
       "    </tr>\n",
       "    <tr>\n",
       "      <th>8</th>\n",
       "      <td>carbody_wagon</td>\n",
       "      <td>-7573.76</td>\n",
       "      <td>-7402.39</td>\n",
       "    </tr>\n",
       "    <tr>\n",
       "      <th>9</th>\n",
       "      <td>wheelbase</td>\n",
       "      <td>15210.12</td>\n",
       "      <td>14811.28</td>\n",
       "    </tr>\n",
       "    <tr>\n",
       "      <th>10</th>\n",
       "      <td>curbweight</td>\n",
       "      <td>7617.15</td>\n",
       "      <td>7745.74</td>\n",
       "    </tr>\n",
       "    <tr>\n",
       "      <th>11</th>\n",
       "      <td>enginesize</td>\n",
       "      <td>13115.27</td>\n",
       "      <td>13266.52</td>\n",
       "    </tr>\n",
       "    <tr>\n",
       "      <th>12</th>\n",
       "      <td>boreratio</td>\n",
       "      <td>-4684.21</td>\n",
       "      <td>-4661.06</td>\n",
       "    </tr>\n",
       "    <tr>\n",
       "      <th>13</th>\n",
       "      <td>stroke</td>\n",
       "      <td>-5841.06</td>\n",
       "      <td>-5788.16</td>\n",
       "    </tr>\n",
       "    <tr>\n",
       "      <th>14</th>\n",
       "      <td>horsepower</td>\n",
       "      <td>18257.82</td>\n",
       "      <td>17852.98</td>\n",
       "    </tr>\n",
       "    <tr>\n",
       "      <th>15</th>\n",
       "      <td>citympg</td>\n",
       "      <td>3465.63</td>\n",
       "      <td>3228.59</td>\n",
       "    </tr>\n",
       "  </tbody>\n",
       "</table>\n",
       "</div>"
      ],
      "text/plain": [
       "              Feature  Coefficients - LR  Coefficients - Lasso\n",
       "0        symboling_-1            2036.46               1730.74\n",
       "1         symboling_0            2416.82               2079.66\n",
       "2         symboling_1            2495.54               2147.02\n",
       "3         symboling_2            2039.31               1687.87\n",
       "4         symboling_3            5501.72               5128.74\n",
       "5     carbody_hardtop           -1875.36              -1692.52\n",
       "6   carbody_hatchback           -6263.59              -6105.65\n",
       "7       carbody_sedan           -5320.67              -5151.61\n",
       "8       carbody_wagon           -7573.76              -7402.39\n",
       "9           wheelbase           15210.12              14811.28\n",
       "10         curbweight            7617.15               7745.74\n",
       "11         enginesize           13115.27              13266.52\n",
       "12          boreratio           -4684.21              -4661.06\n",
       "13             stroke           -5841.06              -5788.16\n",
       "14         horsepower           18257.82              17852.98\n",
       "15            citympg            3465.63               3228.59"
      ]
     },
     "execution_count": 22,
     "metadata": {},
     "output_type": "execute_result"
    }
   ],
   "source": [
    "# Compare the coefficients of the unregularised model and the lasso model\n",
    "pd.DataFrame({\"Feature\": features_considered, \"Coefficients - LR\": lr_model_1.coef_, \"Coefficients - Lasso\": lr_model_2.coef_}).round(2)"
   ]
  },
  {
   "cell_type": "markdown",
   "id": "584184e2-23a3-463d-beab-adecf365eff1",
   "metadata": {},
   "source": [
    "This result seems not very different with the baseline model, meaning the alpha might not be the most optimal one. To find an ideal alpha value, we can perform hyperparameter tuning. There are several ways to do this. First, we will depict how you can use a simple for loop to perform this tuning."
   ]
  },
  {
   "cell_type": "markdown",
   "id": "c8389de4",
   "metadata": {},
   "source": [
    "#### Alpha tuning using loops - Lasso"
   ]
  },
  {
   "cell_type": "code",
   "execution_count": 23,
   "id": "ac6b2e41",
   "metadata": {},
   "outputs": [
    {
     "data": {
      "image/png": "[encoded data removed]",
      "text/plain": [
       "<Figure size 600x400 with 1 Axes>"
      ]
     },
     "metadata": {},
     "output_type": "display_data"
    }
   ],
   "source": [
    "# Create a range of alpha values for tuning\n",
    "alpha_vals = np.arange(0, 50, 1)\n",
    "\n",
    "# Intialize lists to store training and validation performance metrics\n",
    "train_rmse_list = []\n",
    "val_rmse_list = []\n",
    "\n",
    "for alpha_val in alpha_vals:\n",
    "    temp_model = Lasso(alpha = alpha_val)\n",
    "    temp_model = temp_model.fit(X_train_dummies[features_considered], y_train)\n",
    "    \n",
    "    train_preds = temp_model.predict(X_train_dummies[features_considered])\n",
    "    train_rmse = np.sqrt(mean_squared_error(y_true = y_train, y_pred = train_preds))\n",
    "    train_rmse = np.round(train_rmse, 2)\n",
    "    train_rmse_list.append(train_rmse)\n",
    "\n",
    "    val_preds = temp_model.predict(X_val_dummies[features_considered])\n",
    "    val_rmse = np.sqrt(mean_squared_error(y_true = y_val, y_pred = val_preds))\n",
    "    val_rmse = np.round(val_rmse, 2)\n",
    "    val_rmse_list.append(val_rmse)\n",
    "\n",
    "# We will plot the RMSE of the model with the changing alphas\n",
    "plt.figure(figsize = (6,4))\n",
    "sns.lineplot(x = alpha_vals, y = train_rmse_list, label = 'Training RMSE', color = 'blue')\n",
    "sns.lineplot(x = alpha_vals, y = val_rmse_list, label = 'Validation RMSE', color = 'red')\n",
    "plt.xlabel('Alpha'); plt.ylabel('RMSE')\n",
    "plt.title('RMSE of Lasso Model as a Function of Alpha')\n",
    "plt.legend(bbox_to_anchor = (1, 1)); plt.tight_layout();"
   ]
  },
  {
   "cell_type": "markdown",
   "id": "9a494674",
   "metadata": {},
   "source": [
    "A good point to note here is that training performance goes down when you regularise, because you are limiting the learning power of the model during training, but the validation performance may improve as you are encouraging generalisation. The validation error here is low around the alpha value of 30"
   ]
  },
  {
   "cell_type": "code",
   "execution_count": 24,
   "id": "1921c9c8",
   "metadata": {},
   "outputs": [
    {
     "data": {
      "text/plain": [
       "35.0"
      ]
     },
     "execution_count": 24,
     "metadata": {},
     "output_type": "execute_result"
    }
   ],
   "source": [
    "# Obtain the value of lasso alpha for minimum validation MAPE\n",
    "best_lasso_alpha = alpha_vals[val_rmse_list.index(min(val_rmse_list))]\n",
    "float(best_lasso_alpha)"
   ]
  },
  {
   "cell_type": "markdown",
   "id": "c1e230db",
   "metadata": {},
   "source": [
    "Let's check out the coefficients for this alpha value"
   ]
  },
  {
   "cell_type": "code",
   "execution_count": 25,
   "id": "7d1235ab",
   "metadata": {},
   "outputs": [
    {
     "data": {
      "text/html": [
       "<div>\n",
       "<style scoped>\n",
       "    .dataframe tbody tr th:only-of-type {\n",
       "        vertical-align: middle;\n",
       "    }\n",
       "\n",
       "    .dataframe tbody tr th {\n",
       "        vertical-align: top;\n",
       "    }\n",
       "\n",
       "    .dataframe thead th {\n",
       "        text-align: right;\n",
       "    }\n",
       "</style>\n",
       "<table border=\"1\" class=\"dataframe\">\n",
       "  <thead>\n",
       "    <tr style=\"text-align: right;\">\n",
       "      <th></th>\n",
       "      <th>Feature</th>\n",
       "      <th>Coefficients - LR</th>\n",
       "      <th>Coefficients - Lasso</th>\n",
       "    </tr>\n",
       "  </thead>\n",
       "  <tbody>\n",
       "    <tr>\n",
       "      <th>0</th>\n",
       "      <td>symboling_-1</td>\n",
       "      <td>2036.46</td>\n",
       "      <td>0.00</td>\n",
       "    </tr>\n",
       "    <tr>\n",
       "      <th>1</th>\n",
       "      <td>symboling_0</td>\n",
       "      <td>2416.82</td>\n",
       "      <td>-0.00</td>\n",
       "    </tr>\n",
       "    <tr>\n",
       "      <th>2</th>\n",
       "      <td>symboling_1</td>\n",
       "      <td>2495.54</td>\n",
       "      <td>0.00</td>\n",
       "    </tr>\n",
       "    <tr>\n",
       "      <th>3</th>\n",
       "      <td>symboling_2</td>\n",
       "      <td>2039.31</td>\n",
       "      <td>-176.93</td>\n",
       "    </tr>\n",
       "    <tr>\n",
       "      <th>4</th>\n",
       "      <td>symboling_3</td>\n",
       "      <td>5501.72</td>\n",
       "      <td>1714.88</td>\n",
       "    </tr>\n",
       "    <tr>\n",
       "      <th>5</th>\n",
       "      <td>carbody_hardtop</td>\n",
       "      <td>-1875.36</td>\n",
       "      <td>0.00</td>\n",
       "    </tr>\n",
       "    <tr>\n",
       "      <th>6</th>\n",
       "      <td>carbody_hatchback</td>\n",
       "      <td>-6263.59</td>\n",
       "      <td>-2947.93</td>\n",
       "    </tr>\n",
       "    <tr>\n",
       "      <th>7</th>\n",
       "      <td>carbody_sedan</td>\n",
       "      <td>-5320.67</td>\n",
       "      <td>-1594.08</td>\n",
       "    </tr>\n",
       "    <tr>\n",
       "      <th>8</th>\n",
       "      <td>carbody_wagon</td>\n",
       "      <td>-7573.76</td>\n",
       "      <td>-3809.12</td>\n",
       "    </tr>\n",
       "    <tr>\n",
       "      <th>9</th>\n",
       "      <td>wheelbase</td>\n",
       "      <td>15210.12</td>\n",
       "      <td>4340.57</td>\n",
       "    </tr>\n",
       "    <tr>\n",
       "      <th>10</th>\n",
       "      <td>curbweight</td>\n",
       "      <td>7617.15</td>\n",
       "      <td>11025.46</td>\n",
       "    </tr>\n",
       "    <tr>\n",
       "      <th>11</th>\n",
       "      <td>enginesize</td>\n",
       "      <td>13115.27</td>\n",
       "      <td>14604.79</td>\n",
       "    </tr>\n",
       "    <tr>\n",
       "      <th>12</th>\n",
       "      <td>boreratio</td>\n",
       "      <td>-4684.21</td>\n",
       "      <td>-992.06</td>\n",
       "    </tr>\n",
       "    <tr>\n",
       "      <th>13</th>\n",
       "      <td>stroke</td>\n",
       "      <td>-5841.06</td>\n",
       "      <td>-3198.64</td>\n",
       "    </tr>\n",
       "    <tr>\n",
       "      <th>14</th>\n",
       "      <td>horsepower</td>\n",
       "      <td>18257.82</td>\n",
       "      <td>11098.28</td>\n",
       "    </tr>\n",
       "    <tr>\n",
       "      <th>15</th>\n",
       "      <td>citympg</td>\n",
       "      <td>3465.63</td>\n",
       "      <td>0.00</td>\n",
       "    </tr>\n",
       "  </tbody>\n",
       "</table>\n",
       "</div>"
      ],
      "text/plain": [
       "              Feature  Coefficients - LR  Coefficients - Lasso\n",
       "0        symboling_-1            2036.46                  0.00\n",
       "1         symboling_0            2416.82                 -0.00\n",
       "2         symboling_1            2495.54                  0.00\n",
       "3         symboling_2            2039.31               -176.93\n",
       "4         symboling_3            5501.72               1714.88\n",
       "5     carbody_hardtop           -1875.36                  0.00\n",
       "6   carbody_hatchback           -6263.59              -2947.93\n",
       "7       carbody_sedan           -5320.67              -1594.08\n",
       "8       carbody_wagon           -7573.76              -3809.12\n",
       "9           wheelbase           15210.12               4340.57\n",
       "10         curbweight            7617.15              11025.46\n",
       "11         enginesize           13115.27              14604.79\n",
       "12          boreratio           -4684.21               -992.06\n",
       "13             stroke           -5841.06              -3198.64\n",
       "14         horsepower           18257.82              11098.28\n",
       "15            citympg            3465.63                  0.00"
      ]
     },
     "execution_count": 25,
     "metadata": {},
     "output_type": "execute_result"
    }
   ],
   "source": [
    "temp_model = Lasso(alpha = best_lasso_alpha)\n",
    "temp_model = temp_model.fit(X_train_dummies[features_considered], y_train)\n",
    "pd.DataFrame({\"Feature\": features_considered, \"Coefficients - LR\": lr_model_1.coef_, \"Coefficients - Lasso\": temp_model.coef_}).round(2)"
   ]
  },
  {
   "cell_type": "markdown",
   "id": "8a070b09",
   "metadata": {},
   "source": [
    "So, here we see for `alpha = 35`, the model dropped 5 features, and the coefficients turned out quite different from the baseline model's"
   ]
  },
  {
   "cell_type": "markdown",
   "id": "8aa8c30b",
   "metadata": {},
   "source": [
    "#### Alpha tuning using `GridSearchCV()` - Lasso"
   ]
  },
  {
   "cell_type": "markdown",
   "id": "8df10aff-b19e-4515-bd1f-25dbe26ad13e",
   "metadata": {},
   "source": [
    "Another way to do this in fewer lines of code would be by using `GridSearchCV()` from `sklearn.model_selection` \n",
    "\n",
    "This function will search over a 'grid' of parameters, which in this case is simply an array of different alpha values"
   ]
  },
  {
   "cell_type": "code",
   "execution_count": 26,
   "id": "62c43713-42c6-422a-b411-fb299022dff9",
   "metadata": {},
   "outputs": [],
   "source": [
    "# List of alphas to tune for Lasso regularisation\n",
    "param_grid = {'alpha': np.linspace(0.001, 100, 7000)}  # 0.001 to 100, 7000 values"
   ]
  },
  {
   "cell_type": "code",
   "execution_count": 27,
   "id": "40bd9c83",
   "metadata": {},
   "outputs": [
    {
     "name": "stdout",
     "output_type": "stream",
     "text": [
      "Fitting 5 folds for each of 7000 candidates, totalling 35000 fits\n",
      "68\n"
     ]
    }
   ],
   "source": [
    "# Initialise Lasso regression model\n",
    "lasso = Lasso()\n",
    "\n",
    "# GridSearchCV for tuning Lasso hyperparameters\n",
    "model_cv = GridSearchCV(estimator=lasso, param_grid = param_grid,\n",
    "                        scoring = \"neg_root_mean_squared_error\",\n",
    "                        cv=5, n_jobs=-1, return_train_score=True, verbose=1)\n",
    "\n",
    "# Fit the model\n",
    "model_cv.fit(X_train_dummies, y_train)\n",
    "\n",
    "# Check number of iterations for convergence\n",
    "print(model_cv.best_estimator_.n_iter_)"
   ]
  },
  {
   "cell_type": "markdown",
   "id": "57a63476",
   "metadata": {},
   "source": [
    "Note that `GridSearchCV` scores on negative metrics, meaning a high negative RMSE will indicate a better performance than a lower one (unlike our loop analysis)"
   ]
  },
  {
   "cell_type": "code",
   "execution_count": 28,
   "id": "34f74c6e",
   "metadata": {},
   "outputs": [
    {
     "data": {
      "image/png": "[encoded data removed]",
      "text/plain": [
       "<Figure size 640x480 with 1 Axes>"
      ]
     },
     "metadata": {},
     "output_type": "display_data"
    }
   ],
   "source": [
    "# Convert cross-validation results to DataFrame\n",
    "cv_results = pd.DataFrame(model_cv.cv_results_)\n",
    "\n",
    "# Convert alpha to float for better plotting\n",
    "cv_results['param_alpha'] = cv_results['param_alpha'].astype('float32')\n",
    "\n",
    "# Plot train and test scores against alpha\n",
    "plt.plot(cv_results['param_alpha'], cv_results['mean_train_score'])\n",
    "plt.plot(cv_results['param_alpha'], cv_results['mean_test_score'])\n",
    "plt.xlabel('alpha')\n",
    "plt.ylabel('Negative RMSE')\n",
    "\n",
    "plt.title(\"Negative RMSE vs Alpha - Lasso\")\n",
    "plt.legend(['train score', 'test score'], loc='upper right')\n",
    "plt.show()"
   ]
  },
  {
   "cell_type": "code",
   "execution_count": 29,
   "id": "4c56f73b",
   "metadata": {},
   "outputs": [
    {
     "name": "stdout",
     "output_type": "stream",
     "text": [
      "Best alpha: 10.645271324474923\n",
      "Best negative RMSE: -3512.1778684340848\n"
     ]
    }
   ],
   "source": [
    "# Best alpha value\n",
    "best_lasso_alpha = model_cv.best_params_['alpha']\n",
    "print(f\"Best alpha: {best_lasso_alpha}\")\n",
    "\n",
    "# Best score (negative RMSE)\n",
    "best_score = model_cv.best_score_\n",
    "print(f\"Best negative RMSE: {best_score}\")"
   ]
  },
  {
   "cell_type": "code",
   "execution_count": 30,
   "id": "f78024e6",
   "metadata": {},
   "outputs": [
    {
     "data": {
      "text/html": [
       "<div>\n",
       "<style scoped>\n",
       "    .dataframe tbody tr th:only-of-type {\n",
       "        vertical-align: middle;\n",
       "    }\n",
       "\n",
       "    .dataframe tbody tr th {\n",
       "        vertical-align: top;\n",
       "    }\n",
       "\n",
       "    .dataframe thead th {\n",
       "        text-align: right;\n",
       "    }\n",
       "</style>\n",
       "<table border=\"1\" class=\"dataframe\">\n",
       "  <thead>\n",
       "    <tr style=\"text-align: right;\">\n",
       "      <th></th>\n",
       "      <th>Feature</th>\n",
       "      <th>Coefficients - LR</th>\n",
       "      <th>Coefficients - Lasso</th>\n",
       "    </tr>\n",
       "  </thead>\n",
       "  <tbody>\n",
       "    <tr>\n",
       "      <th>0</th>\n",
       "      <td>symboling_-1</td>\n",
       "      <td>2036.46</td>\n",
       "      <td>220.70</td>\n",
       "    </tr>\n",
       "    <tr>\n",
       "      <th>1</th>\n",
       "      <td>symboling_0</td>\n",
       "      <td>2416.82</td>\n",
       "      <td>303.86</td>\n",
       "    </tr>\n",
       "    <tr>\n",
       "      <th>2</th>\n",
       "      <td>symboling_1</td>\n",
       "      <td>2495.54</td>\n",
       "      <td>357.78</td>\n",
       "    </tr>\n",
       "    <tr>\n",
       "      <th>3</th>\n",
       "      <td>symboling_2</td>\n",
       "      <td>2039.31</td>\n",
       "      <td>-0.00</td>\n",
       "    </tr>\n",
       "    <tr>\n",
       "      <th>4</th>\n",
       "      <td>symboling_3</td>\n",
       "      <td>5501.72</td>\n",
       "      <td>3077.24</td>\n",
       "    </tr>\n",
       "    <tr>\n",
       "      <th>5</th>\n",
       "      <td>carbody_hardtop</td>\n",
       "      <td>-1875.36</td>\n",
       "      <td>-0.00</td>\n",
       "    </tr>\n",
       "    <tr>\n",
       "      <th>6</th>\n",
       "      <td>carbody_hatchback</td>\n",
       "      <td>-6263.59</td>\n",
       "      <td>-4505.36</td>\n",
       "    </tr>\n",
       "    <tr>\n",
       "      <th>7</th>\n",
       "      <td>carbody_sedan</td>\n",
       "      <td>-5320.67</td>\n",
       "      <td>-3401.45</td>\n",
       "    </tr>\n",
       "    <tr>\n",
       "      <th>8</th>\n",
       "      <td>carbody_wagon</td>\n",
       "      <td>-7573.76</td>\n",
       "      <td>-5664.64</td>\n",
       "    </tr>\n",
       "    <tr>\n",
       "      <th>9</th>\n",
       "      <td>wheelbase</td>\n",
       "      <td>15210.12</td>\n",
       "      <td>11045.08</td>\n",
       "    </tr>\n",
       "    <tr>\n",
       "      <th>10</th>\n",
       "      <td>curbweight</td>\n",
       "      <td>7617.15</td>\n",
       "      <td>9091.12</td>\n",
       "    </tr>\n",
       "    <tr>\n",
       "      <th>11</th>\n",
       "      <td>enginesize</td>\n",
       "      <td>13115.27</td>\n",
       "      <td>14558.35</td>\n",
       "    </tr>\n",
       "    <tr>\n",
       "      <th>12</th>\n",
       "      <td>boreratio</td>\n",
       "      <td>-4684.21</td>\n",
       "      <td>-4134.36</td>\n",
       "    </tr>\n",
       "    <tr>\n",
       "      <th>13</th>\n",
       "      <td>stroke</td>\n",
       "      <td>-5841.06</td>\n",
       "      <td>-5311.54</td>\n",
       "    </tr>\n",
       "    <tr>\n",
       "      <th>14</th>\n",
       "      <td>horsepower</td>\n",
       "      <td>18257.82</td>\n",
       "      <td>14082.28</td>\n",
       "    </tr>\n",
       "    <tr>\n",
       "      <th>15</th>\n",
       "      <td>citympg</td>\n",
       "      <td>3465.63</td>\n",
       "      <td>1120.63</td>\n",
       "    </tr>\n",
       "  </tbody>\n",
       "</table>\n",
       "</div>"
      ],
      "text/plain": [
       "              Feature  Coefficients - LR  Coefficients - Lasso\n",
       "0        symboling_-1            2036.46                220.70\n",
       "1         symboling_0            2416.82                303.86\n",
       "2         symboling_1            2495.54                357.78\n",
       "3         symboling_2            2039.31                 -0.00\n",
       "4         symboling_3            5501.72               3077.24\n",
       "5     carbody_hardtop           -1875.36                 -0.00\n",
       "6   carbody_hatchback           -6263.59              -4505.36\n",
       "7       carbody_sedan           -5320.67              -3401.45\n",
       "8       carbody_wagon           -7573.76              -5664.64\n",
       "9           wheelbase           15210.12              11045.08\n",
       "10         curbweight            7617.15               9091.12\n",
       "11         enginesize           13115.27              14558.35\n",
       "12          boreratio           -4684.21              -4134.36\n",
       "13             stroke           -5841.06              -5311.54\n",
       "14         horsepower           18257.82              14082.28\n",
       "15            citympg            3465.63               1120.63"
      ]
     },
     "execution_count": 30,
     "metadata": {},
     "output_type": "execute_result"
    }
   ],
   "source": [
    "best_lasso_model = Lasso(alpha = best_lasso_alpha)\n",
    "best_lasso_model = best_lasso_model.fit(X_train_dummies[features_considered], y_train)\n",
    "pd.DataFrame({\"Feature\": features_considered, \"Coefficients - LR\": lr_model_1.coef_, \"Coefficients - Lasso\": best_lasso_model.coef_}).round(2)"
   ]
  },
  {
   "cell_type": "markdown",
   "id": "8a87fe9f-84b3-4c0f-aee2-fe55221989c3",
   "metadata": {},
   "source": [
    "This alpha seems to have dropped only 2 features and also improve the error\n",
    "\n",
    "Choosing the right `alpha` value is ultimately a judgement call for the data scientist. It requires balancing the trade-off between fitting the training data well and achieving good validation performance, since too large a value can cause underfitting, while too small a value can lead to overfitting."
   ]
  },
  {
   "cell_type": "markdown",
   "id": "82d398dc-553a-4095-b502-6bd77b494be9",
   "metadata": {},
   "source": [
    "### Ridge (L2) Regularisation  \n",
    "\n",
    "Let’s now apply **Ridge regression**, which introduces an L2 penalty to the linear regression model\n",
    "\n",
    "Unlike Lasso, Ridge does not force coefficients to zero, but instead shrinks them towards zero, helping to reduce model complexity and multicollinearity"
   ]
  },
  {
   "cell_type": "code",
   "execution_count": 31,
   "id": "ee30029c",
   "metadata": {},
   "outputs": [],
   "source": [
    "lr_model_3 = Ridge(alpha = 1)\n",
    "lr_model_3 = lr_model_3.fit(X_train_dummies[features_considered], y_train)\n",
    "y_pred_lr_list = lr_model_3.predict(X_train_dummies[features_considered])"
   ]
  },
  {
   "cell_type": "code",
   "execution_count": 32,
   "id": "a4f3156a",
   "metadata": {},
   "outputs": [
    {
     "data": {
      "text/html": [
       "<div>\n",
       "<style scoped>\n",
       "    .dataframe tbody tr th:only-of-type {\n",
       "        vertical-align: middle;\n",
       "    }\n",
       "\n",
       "    .dataframe tbody tr th {\n",
       "        vertical-align: top;\n",
       "    }\n",
       "\n",
       "    .dataframe thead th {\n",
       "        text-align: right;\n",
       "    }\n",
       "</style>\n",
       "<table border=\"1\" class=\"dataframe\">\n",
       "  <thead>\n",
       "    <tr style=\"text-align: right;\">\n",
       "      <th></th>\n",
       "      <th>Feature</th>\n",
       "      <th>Coefficients - LR</th>\n",
       "      <th>Coefficients - Lasso</th>\n",
       "      <th>Coefficients - Ridge</th>\n",
       "    </tr>\n",
       "  </thead>\n",
       "  <tbody>\n",
       "    <tr>\n",
       "      <th>0</th>\n",
       "      <td>symboling_-1</td>\n",
       "      <td>2036.46</td>\n",
       "      <td>220.70</td>\n",
       "      <td>799.52</td>\n",
       "    </tr>\n",
       "    <tr>\n",
       "      <th>1</th>\n",
       "      <td>symboling_0</td>\n",
       "      <td>2416.82</td>\n",
       "      <td>303.86</td>\n",
       "      <td>656.43</td>\n",
       "    </tr>\n",
       "    <tr>\n",
       "      <th>2</th>\n",
       "      <td>symboling_1</td>\n",
       "      <td>2495.54</td>\n",
       "      <td>357.78</td>\n",
       "      <td>515.29</td>\n",
       "    </tr>\n",
       "    <tr>\n",
       "      <th>3</th>\n",
       "      <td>symboling_2</td>\n",
       "      <td>2039.31</td>\n",
       "      <td>-0.00</td>\n",
       "      <td>-189.11</td>\n",
       "    </tr>\n",
       "    <tr>\n",
       "      <th>4</th>\n",
       "      <td>symboling_3</td>\n",
       "      <td>5501.72</td>\n",
       "      <td>3077.24</td>\n",
       "      <td>2597.61</td>\n",
       "    </tr>\n",
       "    <tr>\n",
       "      <th>5</th>\n",
       "      <td>carbody_hardtop</td>\n",
       "      <td>-1875.36</td>\n",
       "      <td>-0.00</td>\n",
       "      <td>801.34</td>\n",
       "    </tr>\n",
       "    <tr>\n",
       "      <th>6</th>\n",
       "      <td>carbody_hatchback</td>\n",
       "      <td>-6263.59</td>\n",
       "      <td>-4505.36</td>\n",
       "      <td>-3653.33</td>\n",
       "    </tr>\n",
       "    <tr>\n",
       "      <th>7</th>\n",
       "      <td>carbody_sedan</td>\n",
       "      <td>-5320.67</td>\n",
       "      <td>-3401.45</td>\n",
       "      <td>-2154.97</td>\n",
       "    </tr>\n",
       "    <tr>\n",
       "      <th>8</th>\n",
       "      <td>carbody_wagon</td>\n",
       "      <td>-7573.76</td>\n",
       "      <td>-5664.64</td>\n",
       "      <td>-4660.90</td>\n",
       "    </tr>\n",
       "    <tr>\n",
       "      <th>9</th>\n",
       "      <td>wheelbase</td>\n",
       "      <td>15210.12</td>\n",
       "      <td>11045.08</td>\n",
       "      <td>5821.31</td>\n",
       "    </tr>\n",
       "    <tr>\n",
       "      <th>10</th>\n",
       "      <td>curbweight</td>\n",
       "      <td>7617.15</td>\n",
       "      <td>9091.12</td>\n",
       "      <td>10573.37</td>\n",
       "    </tr>\n",
       "    <tr>\n",
       "      <th>11</th>\n",
       "      <td>enginesize</td>\n",
       "      <td>13115.27</td>\n",
       "      <td>14558.35</td>\n",
       "      <td>11213.31</td>\n",
       "    </tr>\n",
       "    <tr>\n",
       "      <th>12</th>\n",
       "      <td>boreratio</td>\n",
       "      <td>-4684.21</td>\n",
       "      <td>-4134.36</td>\n",
       "      <td>-1375.92</td>\n",
       "    </tr>\n",
       "    <tr>\n",
       "      <th>13</th>\n",
       "      <td>stroke</td>\n",
       "      <td>-5841.06</td>\n",
       "      <td>-5311.54</td>\n",
       "      <td>-3201.17</td>\n",
       "    </tr>\n",
       "    <tr>\n",
       "      <th>14</th>\n",
       "      <td>horsepower</td>\n",
       "      <td>18257.82</td>\n",
       "      <td>14082.28</td>\n",
       "      <td>9721.53</td>\n",
       "    </tr>\n",
       "    <tr>\n",
       "      <th>15</th>\n",
       "      <td>citympg</td>\n",
       "      <td>3465.63</td>\n",
       "      <td>1120.63</td>\n",
       "      <td>-1823.55</td>\n",
       "    </tr>\n",
       "  </tbody>\n",
       "</table>\n",
       "</div>"
      ],
      "text/plain": [
       "              Feature  Coefficients - LR  Coefficients - Lasso  \\\n",
       "0        symboling_-1            2036.46                220.70   \n",
       "1         symboling_0            2416.82                303.86   \n",
       "2         symboling_1            2495.54                357.78   \n",
       "3         symboling_2            2039.31                 -0.00   \n",
       "4         symboling_3            5501.72               3077.24   \n",
       "5     carbody_hardtop           -1875.36                 -0.00   \n",
       "6   carbody_hatchback           -6263.59              -4505.36   \n",
       "7       carbody_sedan           -5320.67              -3401.45   \n",
       "8       carbody_wagon           -7573.76              -5664.64   \n",
       "9           wheelbase           15210.12              11045.08   \n",
       "10         curbweight            7617.15               9091.12   \n",
       "11         enginesize           13115.27              14558.35   \n",
       "12          boreratio           -4684.21              -4134.36   \n",
       "13             stroke           -5841.06              -5311.54   \n",
       "14         horsepower           18257.82              14082.28   \n",
       "15            citympg            3465.63               1120.63   \n",
       "\n",
       "    Coefficients - Ridge  \n",
       "0                 799.52  \n",
       "1                 656.43  \n",
       "2                 515.29  \n",
       "3                -189.11  \n",
       "4                2597.61  \n",
       "5                 801.34  \n",
       "6               -3653.33  \n",
       "7               -2154.97  \n",
       "8               -4660.90  \n",
       "9                5821.31  \n",
       "10              10573.37  \n",
       "11              11213.31  \n",
       "12              -1375.92  \n",
       "13              -3201.17  \n",
       "14               9721.53  \n",
       "15              -1823.55  "
      ]
     },
     "execution_count": 32,
     "metadata": {},
     "output_type": "execute_result"
    }
   ],
   "source": [
    "# Compare the coefficients of the unregularised model, lasso and the ridge model\n",
    "pd.DataFrame({\"Feature\": features_considered, \"Coefficients - LR\": lr_model_1.coef_, \"Coefficients - Lasso\": best_lasso_model.coef_, \n",
    "              \"Coefficients - Ridge\": lr_model_3.coef_}).round(2)"
   ]
  },
  {
   "cell_type": "markdown",
   "id": "a507c253",
   "metadata": {},
   "source": [
    "#### Alpha tuning using `GridSearchCV()` - Ridge"
   ]
  },
  {
   "cell_type": "markdown",
   "id": "8dcb1f12",
   "metadata": {},
   "source": [
    "Let's find the optimal alpha for the ridge model using `GridSearchCV()` "
   ]
  },
  {
   "cell_type": "code",
   "execution_count": 33,
   "id": "382d1796",
   "metadata": {},
   "outputs": [],
   "source": [
    "# List of alphas to tune for Ridge regularisation\n",
    "param_grid = {'alpha': np.linspace(0.0001, 1, 1000)}  # 0.001 to 100, 7000 values"
   ]
  },
  {
   "cell_type": "code",
   "execution_count": 34,
   "id": "92f0d15a",
   "metadata": {},
   "outputs": [
    {
     "name": "stdout",
     "output_type": "stream",
     "text": [
      "Fitting 5 folds for each of 1000 candidates, totalling 5000 fits\n",
      "None\n"
     ]
    }
   ],
   "source": [
    "# Initialise Ridge regression model\n",
    "ridge = Ridge()\n",
    "\n",
    "# GridSearchCV for tuning Ridge hyperparameters\n",
    "model_cv = GridSearchCV(estimator=ridge, param_grid = param_grid,\n",
    "                        scoring = \"neg_root_mean_squared_error\",\n",
    "                        cv=5, n_jobs=-1, return_train_score=True, verbose=1)\n",
    "\n",
    "model_cv.fit(X_train_dummies, y_train)\n",
    "\n",
    "print(model_cv.best_estimator_.n_iter_)"
   ]
  },
  {
   "cell_type": "code",
   "execution_count": 35,
   "id": "9b6bb616",
   "metadata": {},
   "outputs": [
    {
     "data": {
      "image/png": "[encoded data removed]",
      "text/plain": [
       "<Figure size 640x480 with 1 Axes>"
      ]
     },
     "metadata": {},
     "output_type": "display_data"
    }
   ],
   "source": [
    "# Convert cross-validation results to DataFrame\n",
    "cv_results = pd.DataFrame(model_cv.cv_results_)\n",
    "\n",
    "# Convert alpha to float for better plotting\n",
    "cv_results['param_alpha'] = cv_results['param_alpha'].astype('float32')\n",
    "\n",
    "# Plot train and test scores against alpha\n",
    "plt.plot(cv_results['param_alpha'], cv_results['mean_train_score'])\n",
    "plt.plot(cv_results['param_alpha'], cv_results['mean_test_score'])\n",
    "plt.xlabel('alpha')\n",
    "plt.ylabel('Negative RMSE')\n",
    "\n",
    "plt.title(\"Negative RMSE vs Alpha - Ridge\")\n",
    "plt.legend(['train score', 'test score'], loc='upper right')\n",
    "plt.show()"
   ]
  },
  {
   "cell_type": "code",
   "execution_count": 36,
   "id": "dce7c08b",
   "metadata": {},
   "outputs": [
    {
     "name": "stdout",
     "output_type": "stream",
     "text": [
      "Best alpha: 0.2573315315315315\n",
      "Best negative RMSE: -3457.2375014255617\n"
     ]
    }
   ],
   "source": [
    "# Best alpha value\n",
    "best_ridge_alpha = model_cv.best_params_['alpha']\n",
    "print(f\"Best alpha: {best_ridge_alpha}\")\n",
    "\n",
    "# Best score (negative RMSE)\n",
    "best_score = model_cv.best_score_\n",
    "print(f\"Best negative RMSE: {best_score}\")"
   ]
  },
  {
   "cell_type": "code",
   "execution_count": 37,
   "id": "1a30eae6",
   "metadata": {},
   "outputs": [
    {
     "data": {
      "text/html": [
       "<div>\n",
       "<style scoped>\n",
       "    .dataframe tbody tr th:only-of-type {\n",
       "        vertical-align: middle;\n",
       "    }\n",
       "\n",
       "    .dataframe tbody tr th {\n",
       "        vertical-align: top;\n",
       "    }\n",
       "\n",
       "    .dataframe thead th {\n",
       "        text-align: right;\n",
       "    }\n",
       "</style>\n",
       "<table border=\"1\" class=\"dataframe\">\n",
       "  <thead>\n",
       "    <tr style=\"text-align: right;\">\n",
       "      <th></th>\n",
       "      <th>Feature</th>\n",
       "      <th>Coefficients - LR</th>\n",
       "      <th>Coefficients - Lasso</th>\n",
       "      <th>Coefficients - Ridge</th>\n",
       "    </tr>\n",
       "  </thead>\n",
       "  <tbody>\n",
       "    <tr>\n",
       "      <th>0</th>\n",
       "      <td>symboling_-1</td>\n",
       "      <td>2036.46</td>\n",
       "      <td>220.70</td>\n",
       "      <td>1373.14</td>\n",
       "    </tr>\n",
       "    <tr>\n",
       "      <th>1</th>\n",
       "      <td>symboling_0</td>\n",
       "      <td>2416.82</td>\n",
       "      <td>303.86</td>\n",
       "      <td>1376.62</td>\n",
       "    </tr>\n",
       "    <tr>\n",
       "      <th>2</th>\n",
       "      <td>symboling_1</td>\n",
       "      <td>2495.54</td>\n",
       "      <td>357.78</td>\n",
       "      <td>1427.07</td>\n",
       "    </tr>\n",
       "    <tr>\n",
       "      <th>3</th>\n",
       "      <td>symboling_2</td>\n",
       "      <td>2039.31</td>\n",
       "      <td>-0.00</td>\n",
       "      <td>804.85</td>\n",
       "    </tr>\n",
       "    <tr>\n",
       "      <th>4</th>\n",
       "      <td>symboling_3</td>\n",
       "      <td>5501.72</td>\n",
       "      <td>3077.24</td>\n",
       "      <td>3870.58</td>\n",
       "    </tr>\n",
       "    <tr>\n",
       "      <th>5</th>\n",
       "      <td>carbody_hardtop</td>\n",
       "      <td>-1875.36</td>\n",
       "      <td>-0.00</td>\n",
       "      <td>-284.79</td>\n",
       "    </tr>\n",
       "    <tr>\n",
       "      <th>6</th>\n",
       "      <td>carbody_hatchback</td>\n",
       "      <td>-6263.59</td>\n",
       "      <td>-4505.36</td>\n",
       "      <td>-4784.04</td>\n",
       "    </tr>\n",
       "    <tr>\n",
       "      <th>7</th>\n",
       "      <td>carbody_sedan</td>\n",
       "      <td>-5320.67</td>\n",
       "      <td>-3401.45</td>\n",
       "      <td>-3594.03</td>\n",
       "    </tr>\n",
       "    <tr>\n",
       "      <th>8</th>\n",
       "      <td>carbody_wagon</td>\n",
       "      <td>-7573.76</td>\n",
       "      <td>-5664.64</td>\n",
       "      <td>-6066.18</td>\n",
       "    </tr>\n",
       "    <tr>\n",
       "      <th>9</th>\n",
       "      <td>wheelbase</td>\n",
       "      <td>15210.12</td>\n",
       "      <td>11045.08</td>\n",
       "      <td>9490.57</td>\n",
       "    </tr>\n",
       "    <tr>\n",
       "      <th>10</th>\n",
       "      <td>curbweight</td>\n",
       "      <td>7617.15</td>\n",
       "      <td>9091.12</td>\n",
       "      <td>10573.91</td>\n",
       "    </tr>\n",
       "    <tr>\n",
       "      <th>11</th>\n",
       "      <td>enginesize</td>\n",
       "      <td>13115.27</td>\n",
       "      <td>14558.35</td>\n",
       "      <td>13124.24</td>\n",
       "    </tr>\n",
       "    <tr>\n",
       "      <th>12</th>\n",
       "      <td>boreratio</td>\n",
       "      <td>-4684.21</td>\n",
       "      <td>-4134.36</td>\n",
       "      <td>-3512.97</td>\n",
       "    </tr>\n",
       "    <tr>\n",
       "      <th>13</th>\n",
       "      <td>stroke</td>\n",
       "      <td>-5841.06</td>\n",
       "      <td>-5311.54</td>\n",
       "      <td>-5008.55</td>\n",
       "    </tr>\n",
       "    <tr>\n",
       "      <th>14</th>\n",
       "      <td>horsepower</td>\n",
       "      <td>18257.82</td>\n",
       "      <td>14082.28</td>\n",
       "      <td>12978.44</td>\n",
       "    </tr>\n",
       "    <tr>\n",
       "      <th>15</th>\n",
       "      <td>citympg</td>\n",
       "      <td>3465.63</td>\n",
       "      <td>1120.63</td>\n",
       "      <td>821.86</td>\n",
       "    </tr>\n",
       "  </tbody>\n",
       "</table>\n",
       "</div>"
      ],
      "text/plain": [
       "              Feature  Coefficients - LR  Coefficients - Lasso  \\\n",
       "0        symboling_-1            2036.46                220.70   \n",
       "1         symboling_0            2416.82                303.86   \n",
       "2         symboling_1            2495.54                357.78   \n",
       "3         symboling_2            2039.31                 -0.00   \n",
       "4         symboling_3            5501.72               3077.24   \n",
       "5     carbody_hardtop           -1875.36                 -0.00   \n",
       "6   carbody_hatchback           -6263.59              -4505.36   \n",
       "7       carbody_sedan           -5320.67              -3401.45   \n",
       "8       carbody_wagon           -7573.76              -5664.64   \n",
       "9           wheelbase           15210.12              11045.08   \n",
       "10         curbweight            7617.15               9091.12   \n",
       "11         enginesize           13115.27              14558.35   \n",
       "12          boreratio           -4684.21              -4134.36   \n",
       "13             stroke           -5841.06              -5311.54   \n",
       "14         horsepower           18257.82              14082.28   \n",
       "15            citympg            3465.63               1120.63   \n",
       "\n",
       "    Coefficients - Ridge  \n",
       "0                1373.14  \n",
       "1                1376.62  \n",
       "2                1427.07  \n",
       "3                 804.85  \n",
       "4                3870.58  \n",
       "5                -284.79  \n",
       "6               -4784.04  \n",
       "7               -3594.03  \n",
       "8               -6066.18  \n",
       "9                9490.57  \n",
       "10              10573.91  \n",
       "11              13124.24  \n",
       "12              -3512.97  \n",
       "13              -5008.55  \n",
       "14              12978.44  \n",
       "15                821.86  "
      ]
     },
     "execution_count": 37,
     "metadata": {},
     "output_type": "execute_result"
    }
   ],
   "source": [
    "best_ridge_model = Ridge(alpha = best_ridge_alpha)\n",
    "best_ridge_model = best_ridge_model.fit(X_train_dummies[features_considered], y_train)\n",
    "pd.DataFrame({\"Feature\": features_considered, \"Coefficients - LR\": lr_model_1.coef_, \"Coefficients - Lasso\": best_lasso_model.coef_, \"Coefficients - Ridge\": best_ridge_model.coef_}).round(2)"
   ]
  },
  {
   "cell_type": "markdown",
   "id": "21170cea-36db-4819-aab7-947af118885c",
   "metadata": {},
   "source": [
    "Ridge is not pushing any coefficients down to zero. Once again, the final choice of alpha depends on you as the data scientist.\n",
    "\n",
    "Finally, let's visualise the comparison of the best regularised models"
   ]
  },
  {
   "cell_type": "code",
   "execution_count": 38,
   "id": "1a55a63f-f880-4937-8fbe-06441cac9248",
   "metadata": {},
   "outputs": [
    {
     "data": {
      "image/png": "[encoded data removed]",
      "text/plain": [
       "<Figure size 600x400 with 1 Axes>"
      ]
     },
     "metadata": {},
     "output_type": "display_data"
    }
   ],
   "source": [
    "# Coefficients\n",
    "coef_l1 = best_lasso_model.coef_.flatten()\n",
    "coef_l2 = best_ridge_model.coef_.flatten()\n",
    "\n",
    "# Plot coefficient values against feature index\n",
    "plt.figure(figsize = (6, 4))\n",
    "plt.plot(np.sort(coef_l1), marker = 'o', label = 'L1 (Lasso)')\n",
    "plt.plot(np.sort(coef_l2), marker = 'x', label = 'L2 (Ridge)')\n",
    "\n",
    "plt.title('Coefficient Magnitudes: L1 vs L2 Regularisation'); plt.xlabel('Feature Index (sorted)'); plt.ylabel('Coefficient Value'); plt.legend()\n",
    "plt.grid(True, linestyle = '--', alpha = 0.7);"
   ]
  },
  {
   "cell_type": "markdown",
   "id": "9cee1478-6f44-431a-9dc7-aa8d6330acaa",
   "metadata": {},
   "source": [
    "Here are the differences between these two regularisation techniques\n",
    "\n",
    "| Aspect                  | L1 Regularisation (Lasso)              | L2 Regularisation (Ridge)           |\n",
    "|--------------------------|-----------------------------------------|--------------------------------------|\n",
    "| Penalty Term            | Sum of absolute values of coefficients | Sum of squared values of coefficients |\n",
    "| Effect on Coefficients  | Forces some coefficients to exactly 0 (feature selection) | Shrinks coefficients but rarely makes them 0 |\n",
    "| Model Interpretation    | Produces sparse models, easier to interpret | Retains all features, less sparse |\n",
    "| When Useful             | High-dimensional data, need feature selection | Multicollinearity, need stability |"
   ]
  },
  {
   "cell_type": "markdown",
   "id": "42d81d3c",
   "metadata": {},
   "source": []
  }
 ],
 "metadata": {
  "kernelspec": {
   "display_name": "ai-lab",
   "language": "python",
   "name": "python3"
  },
  "language_info": {
   "codemirror_mode": {
    "name": "ipython",
    "version": 3
   },
   "file_extension": ".py",
   "mimetype": "text/x-python",
   "name": "python",
   "nbconvert_exporter": "python",
   "pygments_lexer": "ipython3",
   "version": "3.13.5"
  }
 },
 "nbformat": 4,
 "nbformat_minor": 5
}
