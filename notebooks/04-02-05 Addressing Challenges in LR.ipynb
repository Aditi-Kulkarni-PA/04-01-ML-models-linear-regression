{
 "cells": [
  {
   "cell_type": "code",
   "execution_count": 1,
   "id": "8d583ddc",
   "metadata": {},
   "outputs": [],
   "source": [
    "## Addressing Challenges in Linear Regression"
   ]
  },
  {
   "cell_type": "markdown",
   "id": "edb00274",
   "metadata": {},
   "source": [
    "### 1. Assumption Violations\n",
    "\n",
    "Linear regression rests on some strict assumptions. If they’re broken, the results can be misleading:\n",
    "- Linearity: Relationship between predictors and target must be linear.\n",
    "    - (But in real life, many relationships are curved, stepped, or more complex.)\n",
    "- Independence: Observations should be independent.\n",
    "    - (E.g., time series or clustered data often violate this.)\n",
    "- Homoscedasticity: Constant variance of residuals.\n",
    "    - (If residuals “fan out,” your model isn’t stable across ranges.)\n",
    "- Normality of errors: Residuals should be normally distributed for inference.\n",
    "    - (Outliers or skewed distributions break this.)"
   ]
  },
  {
   "cell_type": "markdown",
   "id": "c1fbefde",
   "metadata": {},
   "source": [
    "### 2. Multicollinearity\n",
    "\n",
    "When predictors are highly correlated (e.g., Apps, Accept, and Enroll in your College dataset), it becomes hard for the model to decide which variable is “responsible” for explaining the target.\n",
    "\n",
    "This leads to unstable coefficients (they swing wildly with small data changes).\n",
    "\n",
    "You can detect this with VIF (Variance Inflation Factor)."
   ]
  },
  {
   "cell_type": "markdown",
   "id": "d3567ba6",
   "metadata": {},
   "source": [
    "### 3. Outliers & Influential Points\n",
    "\n",
    "A single extreme data point can pull the regression line disproportionately.\n",
    "\n",
    "E.g., one college with 100,000 undergrads could distort your entire model.\n",
    "\n",
    "Remedies: detect with leverage plots, Cook’s distance, or robust regression."
   ]
  },
  {
   "cell_type": "markdown",
   "id": "e390c188",
   "metadata": {},
   "source": [
    "### 4. Underfitting\n",
    "\n",
    "Linear regression is too simple for complex relationships.\n",
    "\n",
    "If reality is nonlinear or interaction-driven, plain linear regression will give low R² (like your <0.5 result)."
   ]
  },
  {
   "cell_type": "markdown",
   "id": "a81c498a",
   "metadata": {},
   "source": [
    "### 5. Feature Engineering Needs\n",
    "\n",
    "It doesn’t automatically capture interactions (e.g., Tuition × Faculty Ratio).\n",
    "\n",
    "You must manually add polynomial or interaction terms to improve fit."
   ]
  },
  {
   "cell_type": "markdown",
   "id": "f83dc95e",
   "metadata": {},
   "source": [
    "### 6. Sensitivity to Measurement Issues\n",
    "\n",
    "If predictors are on wildly different scales, coefficients can look misleading.\n",
    "\n",
    "If predictors have errors/noise, regression estimates get biased (attenuation bias)."
   ]
  },
  {
   "cell_type": "markdown",
   "id": "e4f042de",
   "metadata": {},
   "source": [
    "### 7. Over-reliance on R²\n",
    "\n",
    "A high R² doesn’t always mean the model is good (could be overfit).\n",
    "\n",
    "A low R² doesn’t mean useless — sometimes the real world just has high variance not explainable by your chosen predictors."
   ]
  },
  {
   "cell_type": "markdown",
   "id": "8f610cf9",
   "metadata": {},
   "source": [
    "### Summary\n",
    "\n",
    "| Challenge             | Why it Matters                     |\n",
    "| --------------------- | ---------------------------------- |\n",
    "| Assumption violations | Bias/inconsistent estimates        |\n",
    "| Multicollinearity     | Unstable, inflated coefficients    |\n",
    "| Outliers              | Distort line & coefficients        |\n",
    "| Underfitting          | Misses real patterns               |\n",
    "| Feature engineering   | Needed to capture complexity       |\n",
    "| Measurement error     | Leads to biased estimates          |\n",
    "| Misleading R²         | Not a universal “goodness” measure |\n"
   ]
  },
  {
   "cell_type": "markdown",
   "id": "11e8ff04",
   "metadata": {},
   "source": [
    "That’s why in practice, people often move from simple linear regression → regularized regression (Ridge, Lasso) → tree-based models once datasets get messy."
   ]
  },
  {
   "cell_type": "markdown",
   "id": "c789603c",
   "metadata": {},
   "source": [
    "---"
   ]
  },
  {
   "cell_type": "markdown",
   "id": "6764b8f4",
   "metadata": {},
   "source": [
    "## 1. Scaling"
   ]
  },
  {
   "cell_type": "markdown",
   "id": "8c8d19f1",
   "metadata": {},
   "source": [
    "#### 🔹 Why Scaling Helps in Machine Learning\n",
    "\n",
    "**1. Puts Features on the Same Scale**\n",
    "- Different features can have very different ranges.\n",
    "    - Example:\n",
    "        - Age ranges from 0–100\n",
    "        - Income ranges from 10,000–1,000,000\n",
    "- If you don’t scale, models that depend on distance or magnitude (KNN, K-means, SVM, Neural Nets) will think Income is far more important than Age just because of its large range.\n",
    "- Scaling ensures fair comparison between features.\n",
    "- Scaling does NOT do much for performance. This is expected, as scaling only improves the interpretability of coefficients"
   ]
  },
  {
   "cell_type": "markdown",
   "id": "cc3397dd",
   "metadata": {},
   "source": [
    "**MinMaxScaler vs StandardScaler**\n",
    "\n",
    "| Aspect                | MinMaxScaler                                                                 | StandardScaler                                                            |\n",
    "|-----------------------|-------------------------------------------------------------------------------|---------------------------------------------------------------------------|\n",
    "| **Formula**           | X' = (X - X_min) / (X_max - X_min)                                           | X' = (X - mean) / std_dev                                                 |\n",
    "| **What it does**      | Rescales data to a fixed range (default [0, 1], but can be customized).      | Standardizes data to have mean = 0 and std dev = 1.                       |\n",
    "| **Effect on distribution** | Preserves the shape of the original distribution (just squishes it).    | Shifts & scales data → distribution centered at 0, spread in std devs.    |\n",
    "| **Sensitive to outliers?** | ✅ Yes (outliers strongly affect min & max).                             | ⚠️ Less sensitive, but mean & std still influenced by outliers.           |\n",
    "| **Use case**          | Neural nets, KNN, K-means, SVM with RBF kernel (needs bounded features).     | Linear/Logistic Regression, PCA, LDA, SVM (linear kernel).                |\n"
   ]
  },
  {
   "cell_type": "markdown",
   "id": "a00e072b",
   "metadata": {},
   "source": [
    "| Feature     | Raw Values     | After MinMaxScaler (0–1) | After StandardScaler |\n",
    "| ----------- | -------------- | ------------------------ | -------------------- |\n",
    "| Age         | 25, 40, 60     | 0.0, 0.5, 1.0            | -1.0, 0.0, +1.0      |\n",
    "| Income (\\$) | 20k, 50k, 100k | 0.0, 0.375, 1.0          | -1.0, 0.0, +1.0      |\n"
   ]
  },
  {
   "cell_type": "markdown",
   "id": "ed82321f",
   "metadata": {},
   "source": [
    "**2. Improves Convergence of Gradient Descent**\n",
    "\n",
    "- Algorithms like Linear Regression, Logistic Regression, Neural Networks use optimization (gradient descent).\n",
    "- If features are on very different scales:\n",
    "    - The error surface is skewed → gradients take a zig-zag path → slow training.\n",
    "- After scaling:\n",
    "    - Error surface is symmetric → faster and smoother convergence."
   ]
  },
  {
   "cell_type": "markdown",
   "id": "345c7d94",
   "metadata": {},
   "source": [
    "**3. Better Performance for Distance-Based Algorithms**\n",
    "- Models like KNN, K-means, SVM (RBF kernel) rely on Euclidean distances.\n",
    "- Without scaling:\n",
    "    - Large-scale features dominate the distance metric.\n",
    "- With scaling:\n",
    "    - Each feature contributes proportionally."
   ]
  },
  {
   "cell_type": "markdown",
   "id": "e037e707",
   "metadata": {},
   "source": [
    "**4. Interpretability of Coefficients**\n",
    "- In linear models (regression, logistic regression):\n",
    "    - Coefficients indicate \"importance\" of features.\n",
    "    - Without scaling, coefficients may look misleading because units differ.\n",
    "    - With scaling, you can compare feature importance directly."
   ]
  },
  {
   "cell_type": "markdown",
   "id": "0dde23a5",
   "metadata": {},
   "source": [
    "**⚡ In short:**\n",
    "Scaling doesn’t change relationships in the data, but makes sure the model treats features fairly, trains faster, and gives interpretable results."
   ]
  },
  {
   "cell_type": "markdown",
   "id": "2f192311",
   "metadata": {},
   "source": [
    "----\n",
    "# What is Multicollinearity?\n",
    "\n",
    "Multicollinearity happens when two or more independent variables (features) are highly correlated with each other in a regression model.\n",
    "\n",
    "👉 This causes problems because:\n",
    "- Coefficients become unstable (change drastically with small data changes).\n",
    "- Hard to interpret feature importance.\n",
    "- Model may still predict well, but interpretation suffers."
   ]
  },
  {
   "cell_type": "markdown",
   "id": "d8abab31",
   "metadata": {},
   "source": [
    "#### How to Detect Multicollinearity\n",
    "\n",
    "| Method                              | What It Means                                                           | Rule of Thumb                          |\n",
    "| ----------------------------------- | ----------------------------------------------------------------------- | -------------------------------------- |\n",
    "| **Correlation Matrix**              | Pairwise correlations between features                                  | Correlation > 0.8 → possible issue     |\n",
    "| **Variance Inflation Factor (VIF)** | Measures how much a variable’s variance is inflated due to collinearity | VIF > 10 → problematic, >5 (potential problem)  |\n",
    "| **Condition Number**                | Matrix diagnostic                                                       | High (> 30) → multicollinearity        |\n"
   ]
  },
  {
   "cell_type": "markdown",
   "id": "9e019e5a",
   "metadata": {},
   "source": [
    "#### How to deal with multicollinearity\n",
    "\n",
    "| Method                                   | How It Works                                                        | Effect on Multicollinearity                           | Pros                                         | Cons                                                        |\n",
    "| ---------------------------------------- | ------------------------------------------------------------------- | ----------------------------------------------------- | -------------------------------------------- | ----------------------------------------------------------- |\n",
    "| **Drop one of the correlated variables** | Remove one of the highly correlated features                        | Reduces redundancy                                    | Simple, interpretable                        | May lose information                                        |\n",
    "| **Combine features**                     | Create a new feature (e.g., sum or average)                         | Reduces collinearity                                  | Keeps information, simpler features          | May be arbitrary                                            |\n",
    "| **Regularization (Ridge / Lasso)**       | Shrinks coefficients (L2 for Ridge, L1 for Lasso)                   | Reduces impact of collinear features                  | Good prediction performance                  | Coefficients biased; Lasso may drop features arbitrarily    |\n",
    "| **Principal Component Analysis (PCA)**   | Converts correlated features into orthogonal components             | Eliminates collinearity                               | No collinearity, reduces dimensions          | Hard to interpret                                           |\n",
    "| **Recursive Feature Elimination (RFE)**  | Recursively removes least important features based on model weights | Can remove redundant collinear features automatically | Keeps only important features; interpretable | Computationally intensive; may be sensitive to model choice |\n",
    "| **Collect more data**                    | More samples reduce instability of coefficients                     | Can help in some cases                                | Improves generalization                      | Often not feasible                                          |\n"
   ]
  },
  {
   "cell_type": "markdown",
   "id": "ca26f60a",
   "metadata": {},
   "source": [
    "#### Difference between Ridge, Lasso, PCA for multicollinearity\n",
    "\n",
    "| Method               | How It Works                                            | Effect on Multicollinearity                                | Pros                                 | Cons                                                  |\n",
    "| -------------------- | ------------------------------------------------------- | ---------------------------------------------------------- | ------------------------------------ | ----------------------------------------------------- |\n",
    "| **Ridge Regression** | Adds L2 penalty → shrinks coefficients                  | Handles collinearity well (keeps all features but shrinks) | Good prediction performance          | Coefficients still biased                             |\n",
    "| **Lasso Regression** | Adds L1 penalty → shrinks some coefficients to 0        | Removes redundant features automatically                   | Feature selection + collinearity fix | May drop useful correlated variables                  |\n",
    "| **PCA**              | Converts correlated features into orthogonal components | Eliminates collinearity by construction                    | No collinearity, fewer features      | Harder to interpret (components ≠ original variables) |\n"
   ]
  },
  {
   "cell_type": "code",
   "execution_count": 1,
   "id": "f7071cb4",
   "metadata": {},
   "outputs": [],
   "source": [
    "# Sample dataset\n",
    "\n",
    "import pandas as pd\n",
    "from sklearn.model_selection import train_test_split\n",
    "\n",
    "# Example dataset with multicollinearity\n",
    "data = {\n",
    "    'X1': [1, 2, 3, 4, 5],\n",
    "    'X2': [2, 4, 6, 8, 10],  # perfectly correlated with X1\n",
    "    'X3': [5, 3, 6, 2, 7],\n",
    "    'X4': [7, 8, 5, 6, 9],\n",
    "    'Y': [10, 20, 30, 25, 35]\n",
    "}\n",
    "\n",
    "df = pd.DataFrame(data)\n",
    "X = df[['X1','X2','X3','X4']]\n",
    "y = df['Y']\n",
    "\n",
    "X_train, X_test, y_train, y_test = train_test_split(X, y, test_size=0.2, random_state=42)\n"
   ]
  },
  {
   "cell_type": "code",
   "execution_count": 5,
   "id": "0a8f5277",
   "metadata": {},
   "outputs": [
    {
     "name": "stdout",
     "output_type": "stream",
     "text": [
      "\n",
      "X1 and X2 have very high VIF, indicating multicollinearity.\n",
      "\n",
      "  feature       VIF\n",
      "0      X1       inf\n",
      "1      X2       inf\n",
      "2      X3  7.444737\n",
      "3      X4  9.472627\n"
     ]
    },
    {
     "name": "stderr",
     "output_type": "stream",
     "text": [
      "/opt/homebrew/Caskroom/miniforge/base/envs/ai-lab/lib/python3.13/site-packages/statsmodels/stats/outliers_influence.py:197: RuntimeWarning: divide by zero encountered in scalar divide\n",
      "  vif = 1. / (1. - r_squared_i)\n"
     ]
    }
   ],
   "source": [
    "# Detect Multicollinearity with VIF\n",
    "\n",
    "from statsmodels.stats.outliers_influence import variance_inflation_factor\n",
    "import numpy as np\n",
    "\n",
    "vif_data = pd.DataFrame()\n",
    "vif_data['feature'] = X.columns\n",
    "vif_data['VIF'] = [variance_inflation_factor(X.values, i) for i in range(len(X.columns))]\n",
    "print(\"\\nX1 and X2 have very high VIF, indicating multicollinearity.\\n\")\n",
    "\n",
    "print(vif_data)\n",
    "\n"
   ]
  },
  {
   "cell_type": "code",
   "execution_count": 6,
   "id": "9a76aa8a",
   "metadata": {},
   "outputs": [
    {
     "name": "stdout",
     "output_type": "stream",
     "text": [
      "Ridge Coefficients: [ 1.21906266  2.43812533  1.92469721 -1.99315429]\n",
      "Ridge Intercept: 9.02053712480253\n"
     ]
    }
   ],
   "source": [
    "# Ridge Regression\n",
    "from sklearn.linear_model import Ridge\n",
    "\n",
    "ridge = Ridge(alpha=1.0) # L2 regularization\n",
    "ridge.fit(X_train, y_train)\n",
    "\n",
    "print(\"Ridge Coefficients:\", ridge.coef_)\n",
    "print(\"Ridge Intercept:\", ridge.intercept_)"
   ]
  },
  {
   "cell_type": "code",
   "execution_count": 7,
   "id": "1cb96f46",
   "metadata": {},
   "outputs": [
    {
     "name": "stdout",
     "output_type": "stream",
     "text": [
      "Lasso Coefficients: [ 0.          3.16790123  2.1617284  -2.4       ]\n",
      "Lasso Intercept: 9.799999999999995\n"
     ]
    }
   ],
   "source": [
    "# Lasso Regression\n",
    "from sklearn.linear_model import Lasso\n",
    "lasso = Lasso(alpha=0.1) # L1 regularization\n",
    "lasso.fit(X_train, y_train)\n",
    "print(\"Lasso Coefficients:\", lasso.coef_)\n",
    "print(\"Lasso Intercept:\", lasso.intercept_)"
   ]
  },
  {
   "cell_type": "code",
   "execution_count": 9,
   "id": "0aa67cc8",
   "metadata": {},
   "outputs": [
    {
     "name": "stdout",
     "output_type": "stream",
     "text": [
      "PCA Components:\n",
      " [[ 0.64583984  0.64583984  0.30068345  0.27453829]\n",
      " [-0.28686358 -0.28686358  0.61467657  0.67645494]]\n",
      "PCA Components shape: (5, 2)\n",
      "Explained Variance Ratio: [0.54787888 0.25955737]\n"
     ]
    }
   ],
   "source": [
    "# PCA to reduce multicollinearity\n",
    "# Transforms correlated features into orthogonal components.\n",
    "# Eliminates multicollinearity but components are less interpretable.\n",
    "\n",
    "from sklearn.decomposition import PCA\n",
    "from sklearn.preprocessing import StandardScaler\n",
    "\n",
    "scaler = StandardScaler()\n",
    "X_scaled = scaler.fit_transform(X)\n",
    "\n",
    "pca = PCA(n_components=2)\n",
    "X_pca = pca.fit_transform(X_scaled)\n",
    "print(\"PCA Components:\\n\", pca.components_)\n",
    "print(\"PCA Components shape:\", X_pca.shape)\n",
    "print(\"Explained Variance Ratio:\", pca.explained_variance_ratio_)"
   ]
  },
  {
   "cell_type": "code",
   "execution_count": 13,
   "id": "3ca9a5c7",
   "metadata": {},
   "outputs": [
    {
     "name": "stdout",
     "output_type": "stream",
     "text": [
      "Selected Features: Index(['X1', 'X2', 'X3', 'X4'], dtype='object')\n"
     ]
    },
    {
     "name": "stderr",
     "output_type": "stream",
     "text": [
      "/opt/homebrew/Caskroom/miniforge/base/envs/ai-lab/lib/python3.13/site-packages/sklearn/feature_selection/_rfe.py:300: UserWarning: Found n_features_to_select=5 > n_features=4. There will be no feature selection and all features will be kept.\n",
      "  warnings.warn(\n"
     ]
    }
   ],
   "source": [
    "# RFE (Recuursive Feature Elimination) for feature selection)\n",
    "# RFE recursively removes least important features.\n",
    "# Helps automatically drop redundant/correlated features.\n",
    "from sklearn.feature_selection import RFE\n",
    "from sklearn.linear_model import LinearRegression\n",
    "\n",
    "model = LinearRegression()\n",
    "rfe = RFE(model, n_features_to_select=5)\n",
    "X_rfe = rfe.fit_transform(X_train, y_train)\n",
    "\n",
    "print(\"Selected Features:\", X_train.columns[rfe.support_])"
   ]
  },
  {
   "cell_type": "markdown",
   "id": "c0775a57",
   "metadata": {},
   "source": [
    "| Method | How it Handles Multicollinearity             | Pros                                      | Cons                                       |\n",
    "| ------ | -------------------------------------------- | ----------------------------------------- | ------------------------------------------ |\n",
    "| Ridge  | Shrinks coefficients of correlated features  | Keeps all features, stable predictions    | Coefficients biased                        |\n",
    "| Lasso  | Shrinks some coefficients to zero            | Performs feature selection                | May drop useful correlated features        |\n",
    "| PCA    | Converts features to orthogonal components   | No collinearity, dimensionality reduction | Harder to interpret                        |\n",
    "| RFE    | Removes least important features recursively | Keeps only important features             | Computationally intensive, model-dependent |\n"
   ]
  },
  {
   "cell_type": "markdown",
   "id": "0578e1e7",
   "metadata": {},
   "source": [
    "---"
   ]
  },
  {
   "cell_type": "markdown",
   "id": "808dbffa",
   "metadata": {},
   "source": [
    "## Categorical predictors and VIF\n",
    "\n",
    "VIF (Variance Inflation Factor) measures multicollinearity among numerical predictors, so handling categorical predictors requires some care. Let me break it down clearly."
   ]
  },
  {
   "cell_type": "markdown",
   "id": "7d5cb051",
   "metadata": {},
   "source": [
    "#### Why Categorical Predictors Affect VIF\n",
    "\n",
    "- Categorical variables must be encoded numerically before VIF can be calculated.\n",
    "- One-hot encoding is the standard approach.\n",
    "    - Example: Staff = [\"A\",\"B\",\"C\"] → becomes 3 columns: Staff_A, Staff_B, Staff_C.\n",
    "- Problem: Perfect multicollinearity arises if you don’t drop one category (dummy variable trap).\n",
    "    - VIF for one-hot columns will be very high / infinite if all categories are included.\n",
    "    - Solution → drop='first' in OneHotEncoder."
   ]
  },
  {
   "cell_type": "code",
   "execution_count": 16,
   "id": "b96123ae",
   "metadata": {},
   "outputs": [
    {
     "name": "stdout",
     "output_type": "stream",
     "text": [
      "Encoded Features:\n",
      "    Muffins_2  Muffins_3  Muffins_4  Staff_B  Staff_C\n",
      "0        0.0        0.0        0.0      0.0      0.0\n",
      "1        1.0        0.0        0.0      0.0      0.0\n",
      "2        0.0        0.0        1.0      1.0      0.0\n",
      "3        0.0        1.0        0.0      0.0      0.0\n",
      "4        1.0        0.0        0.0      0.0      1.0\n",
      "Numerical Features:\n",
      "    Muffins\n",
      "0        1\n",
      "1        2\n",
      "2        4\n",
      "3        3\n",
      "4        2\n",
      "Final Feature Set:\n",
      "    Muffins  Muffins_3  Muffins_4  Staff_B  Staff_C\n",
      "0        1        0.0        0.0      0.0      0.0\n",
      "1        2        0.0        0.0      0.0      0.0\n",
      "2        4        0.0        1.0      1.0      0.0\n",
      "3        3        1.0        0.0      0.0      0.0\n",
      "4        2        0.0        0.0      0.0      1.0\n",
      "\n",
      "VIF with Categorical Predictors:\n",
      "      feature  VIF\n",
      "0    Muffins  6.8\n",
      "1  Muffins_3  2.8\n",
      "2  Muffins_4  inf\n",
      "3    Staff_B  inf\n",
      "4    Staff_C  1.8\n"
     ]
    },
    {
     "name": "stderr",
     "output_type": "stream",
     "text": [
      "/opt/homebrew/Caskroom/miniforge/base/envs/ai-lab/lib/python3.13/site-packages/statsmodels/stats/outliers_influence.py:197: RuntimeWarning: divide by zero encountered in scalar divide\n",
      "  vif = 1. / (1. - r_squared_i)\n"
     ]
    }
   ],
   "source": [
    "import pandas as pd\n",
    "from sklearn.preprocessing import OneHotEncoder\n",
    "from statsmodels.stats.outliers_influence import variance_inflation_factor\n",
    "\n",
    "df = pd.DataFrame({\n",
    "    \"Muffins\": [1, 2, 4, 3, 2],\n",
    "    \"Staff\": [\"A\", \"A\", \"B\", \"A\", \"C\"],\n",
    "    \"Time Taken\": [5, 8, 12, 6, 4]\n",
    "})\n",
    "\n",
    "# Separate features and target\n",
    "X = df[[\"Muffins\", \"Staff\"]]\n",
    "\n",
    "# One-hot encode categorical variables\n",
    "encoder = OneHotEncoder(drop='first', sparse_output=False)\n",
    "X_cat = encoder.fit_transform(X)\n",
    "\n",
    "# Create DataFrame with encoded features\n",
    "X_cat_df = pd.DataFrame(X_cat, columns=encoder.get_feature_names_out(X.columns))\n",
    "print(\"Encoded Features:\\n\", X_cat_df)\n",
    "\n",
    "# Combine with numerical features\n",
    "X_num = df[[\"Muffins\"]].reset_index(drop=True)\n",
    "print(\"Numerical Features:\\n\", X_num)\n",
    "X_final = pd.concat([X_num, X_cat_df.iloc[:, 1:]], axis=1)  # Avoid duplicate Muffins column\n",
    "print(\"Final Feature Set:\\n\", X_final)\n",
    "\n",
    "# Calculate VIF\n",
    "vif_data = pd.DataFrame()\n",
    "vif_data['feature'] = X_final.columns\n",
    "vif_data['VIF'] = [variance_inflation_factor(X_final.values, i) for i in range(len(X_final.columns))]\n",
    "print(\"\\nVIF with Categorical Predictors:\\n\", vif_data)"
   ]
  },
  {
   "cell_type": "markdown",
   "id": "984ef09f",
   "metadata": {},
   "source": [
    "#### Key Notes\n",
    "\n",
    "| Issue                                                    | How to Fix                                                                                                              |\n",
    "| -------------------------------------------------------- | ----------------------------------------------------------------------------------------------------------------------- |\n",
    "| High VIF due to one-hot encoding of categorical variable | Use `drop='first'` in `OneHotEncoder`                                                                                   |\n",
    "| High VIF among numeric predictors + encoded dummies      | Consider **dropping correlated numeric variables**, **combining categories**, or **using regularization** (Ridge/Lasso) |\n",
    "| More than 2–3 categories                                 | Consider **Target Encoding** or **frequency encoding** to reduce dimensionality before VIF calculation                  |\n"
   ]
  },
  {
   "cell_type": "markdown",
   "id": "356ca633",
   "metadata": {},
   "source": [
    "#### Optional Tips\n",
    "\n",
    "RFE or regularization can also handle collinearity caused by encoded categorical variables.\n",
    "\n",
    "Avoid interpreting VIF blindly if there are too many dummy variables — sometimes the problem is natural redundancy."
   ]
  },
  {
   "cell_type": "markdown",
   "id": "0cb24cbe",
   "metadata": {},
   "source": [
    "---\n",
    "## What is Overfitting?\n",
    "\n",
    "Overfitting occurs when a model fits the training data too well, capturing not only the true patterns but also noise and random fluctuations.\n",
    "- The model performs very well on training data but poorly on unseen/test data.\n",
    "- Often happens with complex models (many parameters) relative to small datasets.\n",
    "\n",
    "Visual intuition:\n",
    "- Underfitting: Model too simple → misses patterns.\n",
    "- Good fit: Model captures true patterns → generalizes.\n",
    "- Overfitting: Model too complex → memorizes training data."
   ]
  },
  {
   "cell_type": "markdown",
   "id": "6e7a9a1d",
   "metadata": {},
   "source": [
    "#### Causes of Overfitting\n",
    "\n",
    "- Too complex model: High-degree polynomials, deep trees, too many layers in neural networks.\n",
    "- Small dataset: Model has too few examples to learn generalizable patterns.\n",
    "- Noisy data: Irrelevant features or measurement errors confuse the model.\n",
    "- Too many features: Especially correlated features increase variance."
   ]
  },
  {
   "cell_type": "markdown",
   "id": "c7a66c3e",
   "metadata": {},
   "source": [
    "#### How to detect overfitting \n",
    "\n",
    "| Method                  | What to Look For                                                 |\n",
    "| ----------------------- | ---------------------------------------------------------------- |\n",
    "| **Train vs Test Error** | Training error very low, test error high → overfitting           |\n",
    "| **Cross-Validation**    | Large difference between CV score and training score             |\n",
    "| **Learning Curves**     | Training score high, validation score plateaus low → overfitting |\n"
   ]
  },
  {
   "cell_type": "markdown",
   "id": "b36968f3",
   "metadata": {},
   "source": [
    "#### How to address overfitting\n",
    "\n",
    "| Technique                    | Description                                                     | When to Use                                    |\n",
    "| ---------------------------- | --------------------------------------------------------------- | ---------------------------------------------- |\n",
    "| **Simpler Model**            | Reduce model complexity (fewer layers, lower-degree polynomial) | Always consider first                          |\n",
    "| **Regularization**           | Ridge (L2), Lasso (L1), ElasticNet penalize large coefficients  | Regression, logistic regression, linear models |\n",
    "| **Feature Selection**        | Remove irrelevant/redundant features                            | When too many features or correlated features  |\n",
    "| **Cross-Validation**         | Use CV to select hyperparameters that generalize well           | Any model training                             |\n",
    "| **More Data**                | Train on more examples to help model generalize                 | Feasible if data available                     |\n",
    "| **Dropout / Early Stopping** | Neural networks: randomly drop neurons or stop training early   | Deep learning                                  |\n",
    "| **Ensemble Methods**         | Bagging (Random Forest), Boosting reduce variance               | Trees / complex models                         |\n"
   ]
  },
  {
   "cell_type": "markdown",
   "id": "7784d8b6",
   "metadata": {},
   "source": [
    "#### Quick Example (Linear Regression)\n",
    "\n",
    "Suppose you fit a 10-degree polynomial on 5 points:\n",
    "- Training R² = 1.0 → perfect fit\n",
    "- Test R² = -5.0 → terrible generalization\n",
    "\n",
    "Fix:\n",
    "- Reduce degree → simpler model\n",
    "- Apply Ridge/Lasso → shrink coefficients\n",
    "- Use cross-validation → pick model that generalizes"
   ]
  },
  {
   "cell_type": "markdown",
   "id": "5ead8cef",
   "metadata": {},
   "source": [
    "---\n",
    "## What is Heteroscedasticity?\n",
    "\n",
    "Heteroscedasticity occurs when the variance of the residuals (errors) is not constant across all values of the independent variable(s).\n",
    "- In simple terms: the spread of errors changes depending on X̂ (predicted values).\n",
    "- Violates one of the key assumptions of linear regression: homoscedasticity (constant variance of errors).\n",
    "\n",
    "Why it matters:\n",
    "- Standard errors become unreliable → t-tests, p-values, and confidence intervals are misleading.\n",
    "- Coefficient estimates are still unbiased, but inference is affected."
   ]
  },
  {
   "cell_type": "markdown",
   "id": "31329f7f",
   "metadata": {},
   "source": [
    "#### How to detect heteroscedasticity\n",
    "\n",
    "| Method                              | How it Works                                                         | Interpretation                                                         |                  |                                                          |\n",
    "| ----------------------------------- | -------------------------------------------------------------------- | ---------------------------------------------------------------------- | ---------------- | -------------------------------------------------------- |\n",
    "| **Residuals vs Fitted Plot**        | Plot residuals (Y - Ŷ) on y-axis vs predicted values (Ŷ) on x-axis | Random scatter → homoscedastic. Funnel / cone shape → heteroscedastic. |                  |                                                          |\n",
    "| **Breusch-Pagan Test / White Test** | Statistical tests implemented in `statsmodels`                       | p-value < 0.05 → reject null (heteroscedasticity present)              |                  |                                                          |\n",
    "| **Scale-Location Plot**             | Plot √                                                               | residuals                                                              | vs fitted values | Horizontal line → homoscedastic, trend → heteroscedastic |\n"
   ]
  },
  {
   "cell_type": "markdown",
   "id": "1b3dd0cc",
   "metadata": {},
   "source": [
    "#### Visual Interpretation\n",
    "\n",
    "| Type            | Shape                                            | Interpretation                             |\n",
    "| --------------- | ------------------------------------------------ | ------------------------------------------ |\n",
    "| Homoscedastic   | Even spread, no clear pattern                    | Good, constant error variance              |\n",
    "| Heteroscedastic | Funnel or cone, errors increase/decrease with Ŷ | Bad, violates linear regression assumption |\n"
   ]
  },
  {
   "cell_type": "markdown",
   "id": "4e50a3da",
   "metadata": {},
   "source": [
    "#### Remedies for Heteroscedasticity\n",
    "\n",
    "| Technique                            | How It Helps                                                       | Notes                                                |\n",
    "| ------------------------------------ | ------------------------------------------------------------------ | ---------------------------------------------------- |\n",
    "| **Transform Target Variable**        | Apply log, square root, or Box-Cox transform                       | Often stabilizes variance                            |\n",
    "| **Weighted Least Squares (WLS)**     | Give smaller weights to observations with high variance            | Useful when variance pattern is known                |\n",
    "| **Robust Standard Errors**           | Adjusts standard errors for heteroscedasticity                     | Coefficient estimates unchanged, inference corrected |\n",
    "| **Remove Outliers**                  | Extreme points may cause variance to increase                      | Only if outliers are erroneous or non-representative |\n",
    "| **Polynomial / Feature Engineering** | Sometimes heteroscedasticity arises due to model mis-specification | Adding proper features can reduce it                 |\n"
   ]
  },
  {
   "cell_type": "code",
   "execution_count": 18,
   "id": "f9a3ef42",
   "metadata": {},
   "outputs": [
    {
     "data": {
      "image/png": "[encoded data removed]",
      "text/plain": [
       "<Figure size 640x480 with 1 Axes>"
      ]
     },
     "metadata": {},
     "output_type": "display_data"
    },
    {
     "data": {
      "image/png": "[encoded data removed]",
      "text/plain": [
       "<Figure size 640x480 with 1 Axes>"
      ]
     },
     "metadata": {},
     "output_type": "display_data"
    }
   ],
   "source": [
    "import statsmodels.api as sm\n",
    "import matplotlib.pyplot as plt\n",
    "from statsmodels.stats.diagnostic import het_breuschpagan\n",
    "from sklearn.linear_model import LinearRegression\n",
    "import pandas as pd\n",
    "import numpy as np\n",
    "\n",
    "# Create dataset with heteroscedasticity\n",
    "np.random.seed(42)\n",
    "X = np.arange(1, 11)  # 1 to 10\n",
    "y = X**2 + np.random.normal(0, 5*X, size=X.shape)  # Variance increases with X\n",
    "\n",
    "df = pd.DataFrame({'X': X, 'Y': y})\n",
    "\n",
    "# Fit linear regression\n",
    "model = LinearRegression().fit(df[['X']], df['Y'])\n",
    "y_pred = model.predict(df[['X']])\n",
    "residuals = df['Y'] - y_pred\n",
    "\n",
    "# Residual plot\n",
    "plt.scatter(y_pred, residuals)\n",
    "plt.axhline(0, color='red', linestyle='--')\n",
    "plt.xlabel(\"Predicted Y\")\n",
    "plt.ylabel(\"Residuals\")\n",
    "plt.title(\"Residuals vs Fitted (Before Transformation)\")\n",
    "plt.show()\n",
    "\n",
    "# Apply log transformation to Y\n",
    "df['Y_log'] = np.log(df['Y'])\n",
    "\n",
    "# Fit regression on log(Y)\n",
    "model_log = LinearRegression().fit(df[['X']], df['Y_log'])\n",
    "y_log_pred = model_log.predict(df[['X']])\n",
    "residuals_log = df['Y_log'] - y_log_pred\n",
    "\n",
    "# Residual plot after log transform\n",
    "plt.scatter(y_log_pred, residuals_log)\n",
    "plt.axhline(0, color='red', linestyle='--')\n",
    "plt.xlabel(\"Predicted log(Y)\")\n",
    "plt.ylabel(\"Residuals\")\n",
    "plt.title(\"Residuals vs Fitted (After Log Transformation)\")\n",
    "plt.show()\n",
    "\n",
    "\n",
    "\n"
   ]
  },
  {
   "cell_type": "markdown",
   "id": "15cabb0c",
   "metadata": {},
   "source": [
    "Interpretation:\n",
    "- Residuals now have roughly constant spread → homoscedastic.\n",
    "- Log transformation stabilizes variance when it grows with the magnitude of Y."
   ]
  },
  {
   "cell_type": "markdown",
   "id": "c876c467",
   "metadata": {},
   "source": [
    "| Step          | Observation                                               |\n",
    "| ------------- | --------------------------------------------------------- |\n",
    "| Original Data | Residuals fan out → heteroscedasticity present            |\n",
    "| After log(Y)  | Residuals evenly spread → homoscedasticity restored       |\n",
    "| Why it helps  | Log compresses larger values → reduces variance at high Y |\n"
   ]
  },
  {
   "cell_type": "markdown",
   "id": "ee51a6df",
   "metadata": {},
   "source": [
    "#### Key Takeaways\n",
    "\n",
    "- Heteroscedasticity affects inference, not coefficient estimates.\n",
    "- Residual plots are the simplest first step to detect.\n",
    "- Remedies include transforming variables, using WLS, or robust standard errors."
   ]
  },
  {
   "cell_type": "markdown",
   "id": "837cde32",
   "metadata": {},
   "source": []
  }
 ],
 "metadata": {
  "kernelspec": {
   "display_name": "ai-lab",
   "language": "python",
   "name": "python3"
  },
  "language_info": {
   "codemirror_mode": {
    "name": "ipython",
    "version": 3
   },
   "file_extension": ".py",
   "mimetype": "text/x-python",
   "name": "python",
   "nbconvert_exporter": "python",
   "pygments_lexer": "ipython3",
   "version": "3.13.5"
  }
 },
 "nbformat": 4,
 "nbformat_minor": 5
}
